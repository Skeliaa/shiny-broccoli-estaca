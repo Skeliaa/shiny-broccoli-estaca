{
  "cells": [
    {
      "cell_type": "markdown",
      "metadata": {
        "id": "tmYW065Z_f9o"
      },
      "source": [
        "<h1 align='center'> INF-280 Estadística Computacional 2023-1 </h1>\n",
        "\n",
        "<H3 align='center'> Tema 3 - Variables Aleatorias Discretas  </H3>"
      ]
    },
    {
      "cell_type": "markdown",
      "metadata": {
        "id": "U_Kcum82_l-Y"
      },
      "source": [
        "### **Datos del grupo**\n"
      ]
    },
    {
      "cell_type": "markdown",
      "metadata": {
        "id": "7-TbhM_FAEy5"
      },
      "source": [
        "\n",
        " Nombre del grupo: Shiny-Broccoli Vampire Hunters\n",
        "\n",
        "*   Christian Barrios - 202104660-7 - [video](https://www.youtube.com/watch?v=dQw4w9WgXcQ)\n",
        "*   Gabriel Venegas - 202104 - [video](https://www.youtube.com/watch?v=dQw4w9WgXcQ)"
      ]
    },
    {
      "cell_type": "markdown",
      "metadata": {
        "id": "IQ1c3H_F_KG6"
      },
      "source": [
        "### **Formalidades**  "
      ]
    },
    {
      "cell_type": "markdown",
      "metadata": {
        "id": "yC57mWJWA6Ij"
      },
      "source": [
        "* Es posible utilizar apuntes, libros, papers, ejemplos y cualquier otro material que desee de internet, pero deben ser ustedes quienes desarrollen los ejercicios y comenten los resultados en el Notebook que entregará. \n",
        "* Se permite el uso de las librerías: pandas, numpy, matplotlib y seaborn. Si desea utilizar otra librería debe indicar cómo instalarla.\n",
        "* Se debe trabajar en grupos de **dos o tres personas**.\n",
        "* Además del Notebook, deberán entregar un video explicando lo que hizo, paso a paso, como en los ejemplos entregados en AULA. Este vídeo es **individual**, es decir, cada integrante debe hacerlo por separado (debiendo utilizar el mismo Jupyter Notebook). El video puede ser subido a una plataforma externa como Youtube, Google Drive, ó Dropbox. El **link a compartir** (*visible para cualquier usuario con el link*) debe ir dentro del Notebook.\n",
        "* La nota de esta actividad es grupal."
      ]
    },
    {
      "cell_type": "markdown",
      "metadata": {
        "id": "kWc7BARoDtQJ"
      },
      "source": [
        "### **Descuentos**"
      ]
    },
    {
      "cell_type": "markdown",
      "metadata": {
        "id": "v0V1nMBHDvLU"
      },
      "source": [
        "* Se descontarán 5 puntos si el nombre del archivo subido no sigue el formato indicado.\n",
        "* Se descontarán 5 puntos por cada hora de atraso en la entrega.\n",
        "* Se descontarán 3 puntos por cada gráfico que no incluya los nombres de los ejes."
      ]
    },
    {
      "cell_type": "markdown",
      "metadata": {
        "id": "Qisu3zwrA1ll"
      },
      "source": [
        "### **Entrega** "
      ]
    },
    {
      "cell_type": "markdown",
      "metadata": {
        "id": "uxFLlu2OA_5b"
      },
      "source": [
        "* **Formato**: Se debe realizar una **única** entrega por grupo (un representate del grupo) a través de  __[**Aula**](https://aula.usm.cl/)__.\n",
        "* **Archivo**: \n",
        "\n",
        "    *   El nombre del archivo a subir debe ser **T3_Nombre_Del_Equipo.ipynb**, por ejemplo, si su equipo se llama \"Llamado de emergencia\", entonces el nombre del archivo debe ser **T3_Llamado_de_emergencia.ipynb**\n",
        "    *   El Jupyter Notebook debe incluir **todos links** a los vídeos explicativos, uno por cada integrante.\n",
        "    *   Cada video debe tener una **duración máxima de 15 minutos**.\n",
        "* **Fecha límite**: Domingo 21 de Mayo hasta las 23:59."
      ]
    },
    {
      "cell_type": "markdown",
      "metadata": {
        "id": "RwELncd0C2nx"
      },
      "source": [
        "<table align='left'>\n",
        "<tr>\n",
        "<td><img src='https://i.ytimg.com/vi/OPxnBv57lbo/maxresdefault.jpg' width='720'/> </td>\n",
        "</tr>"
      ]
    },
    {
      "cell_type": "markdown",
      "metadata": {
        "id": "LdKfR503C7V1"
      },
      "source": [
        "## Contexto"
      ]
    },
    {
      "cell_type": "markdown",
      "metadata": {
        "id": "dZeZNz-CKBuZ"
      },
      "source": [
        "Después de muchos largos días y noches cantando *Peaches*, Bowser ha logrado escapar de la captura de Mario y Peach. Si bien está muy feliz de haber escapado, todavía queda un vacío en su corazón.\n",
        "\n",
        "Ahora, el objetivo de Bowser es reinar el universo, y casarse con Peach para así finalmente lograr esa felicidad que tanto anhela. Sin embargo, hay un obstáculo en su camino: Mario. Bowser no va a dejar que se salga con la suya. Es por esto que Bowser ahora va a dedicar el resto de sus días a la búsqueda de Mario para poder vengarse."
      ]
    },
    {
      "cell_type": "markdown",
      "metadata": {
        "id": "kwPQzDn_JX1I"
      },
      "source": [
        "## Preguntas"
      ]
    },
    {
      "cell_type": "markdown",
      "metadata": {
        "id": "7g1FXAkkJZ6H"
      },
      "source": [
        "**Caminos posibles**\n",
        "\n",
        "Bowser camina por el plano discreto $\\mathbb{N}^2 = \\mathbb{N} \\times \\mathbb{N}$, partiendo en $(0,0)$ y dando pasos unitarios hacia arriba o hacia la derecha, es decir, los desplazamientos permitidos son:\n",
        "$$\n",
        "\\begin{align*}\n",
        "(x,y) &→ (x,y+1) \\\\\n",
        "(x,y) &→ (x+1,y)\n",
        "\\end{align*}\n",
        "$$\n",
        "\n",
        "El objetivo de Bowser es llegar al territorio de Mario, cuya extensión cubre todos los puntos $(x,y)| x \\geq m, y \\geq n$. Como su objetivo es recorrer la menor distancia posible, ha decidido ir al punto $(m,n)$.\n",
        "\n",
        "\n",
        "\n",
        "<img src='https://www.inf.utfsm.cl/~jnancu/Mario.jpg' width='360' style='display:block; margin:auto;'/>\n",
        "\n",
        "\n",
        "\n",
        "Como Bowser no sabe sobre técnicas de conteo (y su grupo ~tampoco~ sí), le ha pedido a su grupo que lo ayude a determinar la cantidad de caminos distintos que puede tomar para llegar al territorio de Mario.\n",
        "\n",
        "1. **(5 pts) [Teoría]** Determine el número de caminos distintos que tiene Bowser para llegar a su destino. Para esto, primero encuentre una fórmula para un destino $(m,n)$ cualquiera. ¿Cuántos caminos distintos existen si $m = 100$ y $n=100$?\n",
        "\n",
        "2. **(10 pts) [Teoría]** Como el viaje para llegar adonde Mario es muy largo y Bowser podría perderse, su amigo Lakitu le propone ayudarlo. Lakitu le dice a Bowser que, en caso de que se pierda, puede regresarlo a un \"Checkpoint\"  $(p,q)$. La única condición para volver a un \"Checkpoint\" es que Bowser debe haber pasado por ese punto previamente. Si los $N$ Checkpoints tienen coordenadas $(p_i,q_i)$, donde se cumple que:\n",
        "$$\n",
        "\\begin{align*}\n",
        "p_i &\\leq p_{i+1} \\\\\n",
        "q_i &\\leq q_{i+1} \\\\\n",
        "(p_i,q_i) &\\neq (p_{i+1},q_{i+1}) \\\\\n",
        "p_i &\\leq m \\\\\n",
        "q_i &\\leq n \n",
        "\\end{align*}\n",
        "$$\n",
        "\n",
        ">Determine el número de caminos posibles que tiene Bowser para llegar a su destino pasando por todos los Checkpoints. Primero, encuentre una fórmula general para $N$ arbitrario. ¿Cuántos caminos distintos existen si los $N=5$ Checkpoints son $(11,13), (29, 31), (53, 47), (71, 67), (89, 97)$ y su destino es $(100,100)$?\n",
        "\n",
        "(De aquí hacia abajo considere que **NO** es necesario que Bowser pase por los checkpoints mencionados anteriormente)\n",
        "\n",
        "**Viajando hacia Mario**\n",
        "\n",
        "3. **(10 pts) [Teoría]** Considerando que Bowser solo realiza pasos unitarios hacia arriba o hacia la derecha **con igual probabilidad**. Obtenga y grafique la f.d.p. de la cantidad de pasos que debe realizar Bowser para llegar al territorio de Mario. Además, utilice la f.d.p. para obtener el valor esperado.**Observación:** No es necesario que Bowser llegue exactamente al punto $(m,n) = (100,100)$.\n",
        "\n",
        "4. **(10 pts) [Simulación]** Estime lo pedido en la pregunta 3 mediante simulación. ¿Que ocurre a medida que el número de simulaciones aumenta?. Considere 1.000, 10.000, 100.000 y 1.000.000 de simulaciones para concluir.\n",
        "\n",
        "5. **(10 pts) [Simulación]** Muestre mediante un gráfico interactivo (Revise el Ejemplo de gráfico interactivo al final de este jupyternotebook) como cambia la distribución de probabilidad de la pregunta 3 si la probabilidad de ir hacia arriba varia entre $(0.05,0.95)$. Además, construya un gráfico para el valor esperado en función de la probabilidad de ir hacia arriba. ¿Qué se puede concluir?. Considere aumentos de $0.05$ para el Slider de la probabilidad.\n",
        "\n",
        "**Viajando deprimido**\n",
        "\n",
        "Debido a que Bowser fue rechazado por la princesa Peach, las voces en su cabeza le dicen que no vale la pena ir a pelear contra Mario, lo cual provoca que en ocasiones se mueva en dirección contraria a su destino, ya sea hacia abajo o hacia la izquierda. Es decir, los movimientos que puede realizar Bowser son:\n",
        "\n",
        "$$\n",
        "\\begin{align*}\n",
        "(x,y) &→ (x,y+1) \\\\\n",
        "(x,y) &→ (x,y-1) \\\\\n",
        "(x,y) &→ (x+1,y) \\\\\n",
        "(x,y) &→ (x-1,y)\n",
        "\\end{align*}\n",
        "$$\n",
        "\n",
        "Donde las probabilidades de ir hacia arriba, abajo, derecha e izquierda son 0.4, 0.3, 0.2 y 0.1 respectivamente. Además, considere que bowser ahora se mueve por el plano discreto $\\mathbb{Z}^2 = \\mathbb{Z} \\times \\mathbb{Z}$.\n",
        "\n",
        "6. **(15 pts) [Teoría]** Obtenga y grafique la f.d.p. de la cantidad de pasos que debe realizar Bowser para llegar al territorio de Mario. Además, utilice la f.d.p. para obtener el valor esperado.\n",
        "\n",
        "7. **(5 pts) [Simulación]** Estime lo pedido en la pregunta 6 mediante simulación.\n",
        "\n",
        "8. **(10 pts) [Simulación]** Considere la función Cansancio $C(x)$ la cual recibe la cantidad de pasos $x$ realizados por Bowser para llegar al territorio de Mario. Esta función se define como:\n",
        "\n",
        "\\begin{equation}\n",
        "C(x) =\n",
        "\\begin{cases}\n",
        "  \\frac{x-1000}{25} + 20 & \\text{si $x \\geq 1000,\\mathrm{}$} \\\\\n",
        "   \\sqrt{x} - 10 & \\text{si $x < 1000,\\mathrm{}$}\n",
        "\\end{cases}\n",
        "\\end{equation} \n",
        "\n",
        "> Obtenga y grafique $C(x)$ mediante simulación. Además, calcule su valor esperado.\n",
        "\n",
        "9. **(15 pts) [Teoría]** Bowser abandonará completamente su viaje hacia el territorio de Mario si se producen 4 movimientos **consecutivos** que no lo acerquen a su destino, es decir, movimientos hacia abajo o hacia la izquierda. ¿Cuál es la probabilidad de que Bowser abandone completamente su viaje?\n",
        "\n",
        "10. **(10 pts) [Simulación]** Estime lo pedido en la pregunta 9 mediante simulación.\n",
        "\n",
        "**Bonus**\n",
        "\n",
        "99. **(10 pts para el certamen) [Simulación]** Estime la probabilidad de que Bowser realice un ciclo de largo $k$, con $k\\leq 10$, mientras se dirige hacia su destino. Realice al menos 500.000 simulaciones para obtener una buena precisión. **Observación:** note que hay ciertos valores de $k$ para los cuales es imposible formar un ciclo. **Recomendación**: Realicen algunas pruebas con una cantidad reducida de simulaciones antes de ejecutar el código con la cantidad total de simulaciones requeridas. De esta manera, se puede verificar que el código funciona correctamente.\n",
        "\n",
        "    Ejemplos de ciclos a partir de un punto arbitrario:\n",
        "\n",
        "<img src='https://drive.google.com/uc?id=19tNcD0e-gbS386-rMiKuaBUE_e2W1WCf' width='900' style='display:block; margin:auto;'/>\n",
        "\n",
        "    "
      ]
    },
    {
      "cell_type": "markdown",
      "metadata": {
        "id": "0-u6cMQeKEqm"
      },
      "source": [
        "## Librerías"
      ]
    },
    {
      "cell_type": "code",
      "execution_count": 1,
      "metadata": {
        "id": "yHdIzA79KIJ6"
      },
      "outputs": [],
      "source": [
        "import pandas as pd\n",
        "import numpy as np\n",
        "import seaborn as sns; sns.set()\n",
        "import matplotlib.pyplot as plt\n",
        "import warnings\n",
        "warnings.filterwarnings(\"ignore\")"
      ]
    },
    {
      "cell_type": "markdown",
      "metadata": {
        "id": "tGu6a0XxjD6C"
      },
      "source": [
        "## Desarrollo"
      ]
    },
    {
      "cell_type": "markdown",
      "metadata": {
        "id": "Kyo8a96GyVVy"
      },
      "source": [
        "### 1)"
      ]
    },
    {
      "cell_type": "code",
      "execution_count": null,
      "metadata": {
        "id": "TY_6wCvtyo2h"
      },
      "outputs": [],
      "source": []
    },
    {
      "cell_type": "markdown",
      "metadata": {
        "id": "qThEFPBFyWa-"
      },
      "source": [
        "### 2)"
      ]
    },
    {
      "cell_type": "code",
      "execution_count": null,
      "metadata": {
        "id": "ArWunon3ypQN"
      },
      "outputs": [],
      "source": []
    },
    {
      "cell_type": "markdown",
      "metadata": {
        "id": "Q2a3AFBmyXp9"
      },
      "source": [
        "### 3)"
      ]
    },
    {
      "cell_type": "code",
      "execution_count": 2,
      "metadata": {
        "id": "sqHmy4SOypot",
        "outputId": "817aa13a-db3c-47a9-9ee2-b5b42cce62f6",
        "colab": {
          "base_uri": "https://localhost:8080/"
        }
      },
      "outputs": [
        {
          "output_type": "execute_result",
          "data": {
            "text/plain": [
              "0.05634847900925642"
            ]
          },
          "metadata": {},
          "execution_count": 2
        }
      ],
      "source": [
        "def factorial(x):\n",
        "    if x == 1 or x == 0:\n",
        "        return 1\n",
        "    return x*factorial(x-1)\n",
        "def probaux(m,n,N):\n",
        "    return (factorial(m+n)/(factorial(m)*factorial(n)))/2**(N)\n",
        "def probabilidad(p1,p2,N):\n",
        "    m = p2[0] - p1[0]\n",
        "    n = p2[1] - p1[1]\n",
        "    i = N-m-n\n",
        "    if m+n > N:\n",
        "        return 0\n",
        "    \n",
        "    prob = probaux(m,n,m+n)\n",
        "    if m+n == N:\n",
        "        return prob\n",
        "    \n",
        "    if m+n <= N:\n",
        "        #return probabilidad(p1,p2,N-1)+0.5*probaux(m+i,n-1,N)+0.5*probaux(m-i,n+1,N)\n",
        "        return 0.5*probaux(m+i,n-1,N-1)+0.5*probaux(m-1,n+i,N-1)\n",
        "def esperado(p1,p2):\n",
        "    return esperadoAux(p1,p2,300)\n",
        "def esperadoAux(p1,p2,x):\n",
        "    if x < p2[0]+p2[1]-p1[0]-p1[1]:\n",
        "        return 0\n",
        "    return x*probabilidad(p1,p2,x)+esperadoAux(p1,p2,x-1)\n",
        "\n",
        "p1 = (0,0)\n",
        "p2 = (100,100)\n",
        "N  = 200\n",
        "probabilidad(p1,p2,N)\n",
        "#esperado(p1,p2)"
      ]
    },
    {
      "cell_type": "markdown",
      "metadata": {
        "id": "JqktkKytyZCR"
      },
      "source": [
        "### 4)"
      ]
    },
    {
      "cell_type": "code",
      "execution_count": null,
      "metadata": {
        "id": "z2-UPj1TyqNR"
      },
      "outputs": [],
      "source": [
        "def simulaciones(Total):\n",
        "    m = 100\n",
        "    n = 100\n",
        "\n",
        "    choices = [\"up\",\"right\"]\n",
        "    results = []\n",
        "\n",
        "\n",
        "    for i in range(Total):\n",
        "        notYet = True\n",
        "        x = 0\n",
        "        y = 0\n",
        "\n",
        "        while(notYet):\n",
        "            direction = random.choice(choices)\n",
        "            if direction == \"up\":\n",
        "                y += 1\n",
        "            elif direction == \"right\":\n",
        "                x += 1\n",
        "\n",
        "            if (x >= m) and (y >= n):\n",
        "                notYet = False\n",
        "                results.append(x+y)\n",
        "\n",
        "    r= np.array(results)\n",
        "    unique, counts = np.unique(r, return_counts=True)\n",
        "\n",
        "    probabilitie = []\n",
        "    expectation = 0\n",
        "    i = 0\n",
        "    while i < len(unique):\n",
        "        p = counts[i]/Total\n",
        "        probabilitie.append(p)\n",
        "        expectation += (unique[i] * p)\n",
        "        i+=1\n",
        "\n",
        "    table = {'x': unique, 'f(x) experimental': probabilitie}\n",
        "    df = pd.DataFrame(table)\n",
        "    display(df)\n",
        "    #df.plot(x='x', y = 'f(x) experimental', kind = \"bar\", rot = 0, figsize=(22, 6), ylabel = 'f(x)')\n",
        "    sns.histplot(df, x='x', weights='f(x) experimental', linewidth=0.5, bins = 40)\n",
        "    plt.ylabel(\"f(x) experimental\")\n",
        "    \n",
        "    print(\"Valor esperado con \"+str(Total)+\" simulaciones es:\",expectation)\n",
        "    \n",
        "\n",
        "simulaciones(10**5)\n",
        "#simulaciones(10**4)\n",
        "#simulaciones(10**5)\n",
        "#simulaciones(10**6)"
      ]
    },
    {
      "cell_type": "markdown",
      "metadata": {
        "id": "bum7Hr5iyah5"
      },
      "source": [
        "### 5)"
      ]
    },
    {
      "cell_type": "code",
      "execution_count": 7,
      "metadata": {
        "id": "NLvD1OxZyq3n",
        "outputId": "6976883c-12c7-4c09-9ee4-218bd1d12c36",
        "colab": {
          "base_uri": "https://localhost:8080/",
          "height": 345
        }
      },
      "outputs": [
        {
          "output_type": "error",
          "ename": "KeyboardInterrupt",
          "evalue": "ignored",
          "traceback": [
            "\u001b[0;31m---------------------------------------------------------------------------\u001b[0m",
            "\u001b[0;31mKeyboardInterrupt\u001b[0m                         Traceback (most recent call last)",
            "\u001b[0;32m<ipython-input-7-89b724534cec>\u001b[0m in \u001b[0;36m<cell line: 44>\u001b[0;34m()\u001b[0m\n\u001b[1;32m     42\u001b[0m     \u001b[0mprint\u001b[0m\u001b[0;34m(\u001b[0m\u001b[0;34m\"Valor esperado con \"\u001b[0m\u001b[0;34m+\u001b[0m\u001b[0mstr\u001b[0m\u001b[0;34m(\u001b[0m\u001b[0mTotal\u001b[0m\u001b[0;34m)\u001b[0m\u001b[0;34m+\u001b[0m\u001b[0;34m\" simulaciones es:\"\u001b[0m\u001b[0;34m,\u001b[0m\u001b[0mexpectation\u001b[0m\u001b[0;34m)\u001b[0m\u001b[0;34m\u001b[0m\u001b[0;34m\u001b[0m\u001b[0m\n\u001b[1;32m     43\u001b[0m \u001b[0;34m\u001b[0m\u001b[0m\n\u001b[0;32m---> 44\u001b[0;31m \u001b[0mcantidadPasos\u001b[0m\u001b[0;34m(\u001b[0m\u001b[0;34m(\u001b[0m\u001b[0;36m100\u001b[0m\u001b[0;34m,\u001b[0m\u001b[0;36m100\u001b[0m\u001b[0;34m)\u001b[0m\u001b[0;34m,\u001b[0m\u001b[0;36m10\u001b[0m\u001b[0;34m**\u001b[0m\u001b[0;36m4\u001b[0m\u001b[0;34m,\u001b[0m\u001b[0;36m0.5\u001b[0m\u001b[0;34m)\u001b[0m\u001b[0;34m\u001b[0m\u001b[0;34m\u001b[0m\u001b[0m\n\u001b[0m",
            "\u001b[0;32m<ipython-input-7-89b724534cec>\u001b[0m in \u001b[0;36mcantidadPasos\u001b[0;34m(destino, simulaciones, probUp)\u001b[0m\n\u001b[1;32m     11\u001b[0m \u001b[0;34m\u001b[0m\u001b[0m\n\u001b[1;32m     12\u001b[0m         \u001b[0;32mwhile\u001b[0m\u001b[0;34m(\u001b[0m\u001b[0mnotYet\u001b[0m\u001b[0;34m)\u001b[0m\u001b[0;34m:\u001b[0m\u001b[0;34m\u001b[0m\u001b[0;34m\u001b[0m\u001b[0m\n\u001b[0;32m---> 13\u001b[0;31m             \u001b[0mdirection\u001b[0m \u001b[0;34m=\u001b[0m \u001b[0mrandom\u001b[0m\u001b[0;34m.\u001b[0m\u001b[0mchoice\u001b[0m\u001b[0;34m(\u001b[0m\u001b[0mchoices\u001b[0m\u001b[0;34m)\u001b[0m\u001b[0;34m\u001b[0m\u001b[0;34m\u001b[0m\u001b[0m\n\u001b[0m\u001b[1;32m     14\u001b[0m             \u001b[0;32mif\u001b[0m \u001b[0mdirection\u001b[0m \u001b[0;34m<=\u001b[0m \u001b[0mprobUp\u001b[0m\u001b[0;34m:\u001b[0m\u001b[0;34m\u001b[0m\u001b[0;34m\u001b[0m\u001b[0m\n\u001b[1;32m     15\u001b[0m                 \u001b[0my\u001b[0m \u001b[0;34m+=\u001b[0m \u001b[0;36m1\u001b[0m\u001b[0;34m\u001b[0m\u001b[0;34m\u001b[0m\u001b[0m\n",
            "\u001b[0;32m/usr/lib/python3.10/random.py\u001b[0m in \u001b[0;36mchoice\u001b[0;34m(self, seq)\u001b[0m\n\u001b[1;32m    376\u001b[0m         \u001b[0;34m\"\"\"Choose a random element from a non-empty sequence.\"\"\"\u001b[0m\u001b[0;34m\u001b[0m\u001b[0;34m\u001b[0m\u001b[0m\n\u001b[1;32m    377\u001b[0m         \u001b[0;31m# raises IndexError if seq is empty\u001b[0m\u001b[0;34m\u001b[0m\u001b[0;34m\u001b[0m\u001b[0m\n\u001b[0;32m--> 378\u001b[0;31m         \u001b[0;32mreturn\u001b[0m \u001b[0mseq\u001b[0m\u001b[0;34m[\u001b[0m\u001b[0mself\u001b[0m\u001b[0;34m.\u001b[0m\u001b[0m_randbelow\u001b[0m\u001b[0;34m(\u001b[0m\u001b[0mlen\u001b[0m\u001b[0;34m(\u001b[0m\u001b[0mseq\u001b[0m\u001b[0;34m)\u001b[0m\u001b[0;34m)\u001b[0m\u001b[0;34m]\u001b[0m\u001b[0;34m\u001b[0m\u001b[0;34m\u001b[0m\u001b[0m\n\u001b[0m\u001b[1;32m    379\u001b[0m \u001b[0;34m\u001b[0m\u001b[0m\n\u001b[1;32m    380\u001b[0m     \u001b[0;32mdef\u001b[0m \u001b[0mshuffle\u001b[0m\u001b[0;34m(\u001b[0m\u001b[0mself\u001b[0m\u001b[0;34m,\u001b[0m \u001b[0mx\u001b[0m\u001b[0;34m,\u001b[0m \u001b[0mrandom\u001b[0m\u001b[0;34m=\u001b[0m\u001b[0;32mNone\u001b[0m\u001b[0;34m)\u001b[0m\u001b[0;34m:\u001b[0m\u001b[0;34m\u001b[0m\u001b[0;34m\u001b[0m\u001b[0m\n",
            "\u001b[0;32m/usr/lib/python3.10/random.py\u001b[0m in \u001b[0;36m_randbelow_with_getrandbits\u001b[0;34m(self, n)\u001b[0m\n\u001b[1;32m    245\u001b[0m         \u001b[0mk\u001b[0m \u001b[0;34m=\u001b[0m \u001b[0mn\u001b[0m\u001b[0;34m.\u001b[0m\u001b[0mbit_length\u001b[0m\u001b[0;34m(\u001b[0m\u001b[0;34m)\u001b[0m  \u001b[0;31m# don't use (n-1) here because n can be 1\u001b[0m\u001b[0;34m\u001b[0m\u001b[0;34m\u001b[0m\u001b[0m\n\u001b[1;32m    246\u001b[0m         \u001b[0mr\u001b[0m \u001b[0;34m=\u001b[0m \u001b[0mgetrandbits\u001b[0m\u001b[0;34m(\u001b[0m\u001b[0mk\u001b[0m\u001b[0;34m)\u001b[0m  \u001b[0;31m# 0 <= r < 2**k\u001b[0m\u001b[0;34m\u001b[0m\u001b[0;34m\u001b[0m\u001b[0m\n\u001b[0;32m--> 247\u001b[0;31m         \u001b[0;32mwhile\u001b[0m \u001b[0mr\u001b[0m \u001b[0;34m>=\u001b[0m \u001b[0mn\u001b[0m\u001b[0;34m:\u001b[0m\u001b[0;34m\u001b[0m\u001b[0;34m\u001b[0m\u001b[0m\n\u001b[0m\u001b[1;32m    248\u001b[0m             \u001b[0mr\u001b[0m \u001b[0;34m=\u001b[0m \u001b[0mgetrandbits\u001b[0m\u001b[0;34m(\u001b[0m\u001b[0mk\u001b[0m\u001b[0;34m)\u001b[0m\u001b[0;34m\u001b[0m\u001b[0;34m\u001b[0m\u001b[0m\n\u001b[1;32m    249\u001b[0m         \u001b[0;32mreturn\u001b[0m \u001b[0mr\u001b[0m\u001b[0;34m\u001b[0m\u001b[0;34m\u001b[0m\u001b[0m\n",
            "\u001b[0;31mKeyboardInterrupt\u001b[0m: "
          ]
        }
      ],
      "source": [
        "def cantidadPasos(destino,simulaciones,probUp):\n",
        "    m = destino[0]\n",
        "    n = destino[1]\n",
        "    choices = list(range(1,101))\n",
        "    results = []\n",
        "\n",
        "    for i in range(simulaciones):\n",
        "        notYet = True\n",
        "        x = 0\n",
        "        y = 0\n",
        "\n",
        "        while(notYet):\n",
        "            direction = random.choice(choices)\n",
        "            if direction <= probUp:\n",
        "                y += 1\n",
        "            else:\n",
        "                x += 1\n",
        "\n",
        "            if (x >= m) and (y >= n):\n",
        "                notYet = False\n",
        "                results.append(x+y)\n",
        "\n",
        "    r= np.array(results)\n",
        "    unique, counts = np.unique(r, return_counts=True)\n",
        "\n",
        "    probabilitie = []\n",
        "    expectation = 0\n",
        "    i = 0\n",
        "    while i < len(unique):\n",
        "        p = counts[i]/simulaciones\n",
        "        probabilitie.append(p)\n",
        "        expectation += (unique[i] * p)\n",
        "        i+=1\n",
        "\n",
        "    table = {'x': unique, 'f(x) experimental': probabilitie}\n",
        "    df = pd.DataFrame(table)\n",
        "    display(df)\n",
        "    #df.plot(x='x', y = 'f(x) experimental', kind = \"bar\", rot = 0, figsize=(22, 6), ylabel = 'f(x)')\n",
        "    sns.histplot(df, x='x', weights='f(x) experimental', linewidth=0.5, bins = 40)\n",
        "    plt.ylabel(\"f(x) experimental\")\n",
        "    \n",
        "    print(\"Valor esperado con \"+str(Total)+\" simulaciones es:\",expectation)\n",
        "    \n",
        "cantidadPasos((100,100),10**4,0.5)"
      ]
    },
    {
      "cell_type": "code",
      "source": [
        "def plot_fdp1(prob_cara, simulaciones):\n",
        "    fdp = cantidadPasos(simulaciones = simulaciones, probUp = probUp,)\n",
        "    \n",
        "    eje_x = list(fdp.keys())\n",
        "    eje_y = list(fdp.values())\n",
        "    \n",
        "    plt.plot(eje_x, eje_y)\n",
        "    plt.xlabel('X')\n",
        "    plt.ylabel('f(x)')\n",
        "    plt.title('Función de densidad de probabilidad para\\n el lanzamiento de 100 monedas')\n",
        "    plt.show()\n",
        "\n",
        "interact(plot_fdp, prob_cara=FloatSlider(value=0.5, min=0.05, max=0.95, step=0.05), simulaciones=FloatSlider(value=10**4, min=10**3, max=10**5, step=10**3))"
      ],
      "metadata": {
        "id": "v25l8n8b-Nyl"
      },
      "execution_count": null,
      "outputs": []
    },
    {
      "cell_type": "markdown",
      "metadata": {
        "id": "Gcd25jUtyb--"
      },
      "source": [
        "### 6)"
      ]
    },
    {
      "cell_type": "code",
      "execution_count": null,
      "metadata": {
        "id": "hDxTtWqwyrRA",
        "tags": [],
        "outputId": "c810258f-c8bd-4da3-9a6c-a79fd9cd6d9e"
      },
      "outputs": [
        {
          "data": {
            "text/plain": [
              "0.049416551919756656"
            ]
          },
          "execution_count": 4,
          "metadata": {},
          "output_type": "execute_result"
        }
      ],
      "source": []
    },
    {
      "cell_type": "markdown",
      "metadata": {
        "id": "Q1Ybp6OcydHn"
      },
      "source": [
        "### 7)"
      ]
    },
    {
      "cell_type": "code",
      "execution_count": null,
      "metadata": {
        "id": "VjgMa20JyrqD",
        "outputId": "f425b717-1005-4c16-ee2d-212e6e725641"
      },
      "outputs": [
        {
          "data": {
            "text/plain": [
              "5260135901548373507240989882880128665550339802823173859498280903068732154297080822113666536277588451226982968856178217713019432250183803863127814770651880849955223671128444598191663757884322717271293251735781376"
            ]
          },
          "execution_count": 1,
          "metadata": {},
          "output_type": "execute_result"
        }
      ],
      "source": [
        "2**700"
      ]
    },
    {
      "cell_type": "markdown",
      "metadata": {
        "id": "Kx0LQCdRyeUL"
      },
      "source": [
        "### 8)"
      ]
    },
    {
      "cell_type": "code",
      "execution_count": null,
      "metadata": {
        "id": "BAEP9XSFysCF"
      },
      "outputs": [],
      "source": []
    },
    {
      "cell_type": "markdown",
      "metadata": {
        "id": "ZMb3q3kmyfgw"
      },
      "source": [
        "### 9)"
      ]
    },
    {
      "cell_type": "code",
      "execution_count": null,
      "metadata": {
        "id": "9NR_lE4xyskj"
      },
      "outputs": [],
      "source": []
    },
    {
      "cell_type": "markdown",
      "metadata": {
        "id": "XO5QJTB0yg30"
      },
      "source": [
        "### 10)"
      ]
    },
    {
      "cell_type": "code",
      "execution_count": null,
      "metadata": {
        "id": "6vClSFLvytE2"
      },
      "outputs": [],
      "source": []
    },
    {
      "cell_type": "markdown",
      "metadata": {
        "id": "CyYvsByeyiYo"
      },
      "source": [
        "### BONUS"
      ]
    },
    {
      "cell_type": "code",
      "execution_count": null,
      "metadata": {
        "id": "V4GCsOIMykWp"
      },
      "outputs": [],
      "source": []
    },
    {
      "cell_type": "markdown",
      "metadata": {
        "id": "uhbHZhWmyurO"
      },
      "source": [
        "## Ejemplo gráfico interactivo"
      ]
    },
    {
      "cell_type": "markdown",
      "metadata": {
        "id": "5Xl6vjFwAKSX"
      },
      "source": [
        "Se deben ejecutar las dos celdas de abajo para visualizar el gráfico. Además, se recomienda utilizar Colab de Google en caso de tener problemas con ipywidgets."
      ]
    },
    {
      "cell_type": "code",
      "execution_count": 3,
      "metadata": {
        "id": "kTuskCl3yxy1"
      },
      "outputs": [],
      "source": [
        "import random\n",
        "\n",
        "def caras_obtenidas(lanzamientos = 10**2, simulaciones = 10**3, prob_cara = 0.5):\n",
        "    resultados = []\n",
        "    for _ in range(int(simulaciones)):\n",
        "        caras = 0\n",
        "        for _ in range(int(lanzamientos)):\n",
        "            resultado = random.choices([\"Cara\", \"Sello\"], weights = [prob_cara, 1 - prob_cara])[0]\n",
        "            if resultado == \"Cara\":\n",
        "                caras += 1\n",
        "        resultados.append(caras)\n",
        "    resultados = dict(zip(*np.unique(resultados, return_counts=True)))\n",
        "    \n",
        "    for res in resultados:#Se obtienen las frecuencias relativas\n",
        "        resultados[res] = resultados[res]/simulaciones\n",
        "\n",
        "    return resultados"
      ]
    },
    {
      "cell_type": "code",
      "execution_count": 4,
      "metadata": {
        "colab": {
          "base_uri": "https://localhost:8080/",
          "height": 582,
          "referenced_widgets": [
            "162580bcbe6d4c71be8da5020321a52d",
            "e5ae911800ad4a88b76760c43b4544f2",
            "0fb9725397f34e819917e614ff8d9c50",
            "141cd694d0514465b3e4e3d6593802e3",
            "e2b221ebb8634c65a31d71704cdf2c61",
            "ea54ff11fa94482792e13501ce3fcd2a",
            "d5382cff391b4b0886ae696802fd4f1c",
            "099906bffbdd45b68ee796abcaf7f1d4",
            "351d91e89ded449ea657dea2254d2fff",
            "038d01c151884c2a8cc6b8f64938de7c"
          ]
        },
        "id": "TgqkMQubz97H",
        "outputId": "dcdb86e8-0966-4620-9179-09e9a8ae9d63"
      },
      "outputs": [
        {
          "output_type": "display_data",
          "data": {
            "text/plain": [
              "interactive(children=(FloatSlider(value=0.5, description='prob_cara', max=0.95, min=0.05, step=0.05), FloatSli…"
            ],
            "application/vnd.jupyter.widget-view+json": {
              "version_major": 2,
              "version_minor": 0,
              "model_id": "162580bcbe6d4c71be8da5020321a52d"
            }
          },
          "metadata": {}
        },
        {
          "output_type": "execute_result",
          "data": {
            "text/plain": [
              "<function __main__.plot_fdp(prob_cara, simulaciones)>"
            ]
          },
          "metadata": {},
          "execution_count": 4
        }
      ],
      "source": [
        "import numpy as np\n",
        "import matplotlib.pyplot as plt\n",
        "from ipywidgets import interact, FloatSlider\n",
        "\n",
        "def plot_fdp(prob_cara, simulaciones):\n",
        "    fdp = caras_obtenidas(simulaciones = simulaciones, prob_cara = prob_cara)\n",
        "    \n",
        "    eje_x = list(fdp.keys())\n",
        "    eje_y = list(fdp.values())\n",
        "    \n",
        "    plt.plot(eje_x, eje_y)\n",
        "    plt.xlabel('X')\n",
        "    plt.ylabel('f(x)')\n",
        "    plt.title('Función de densidad de probabilidad para\\n el lanzamiento de 100 monedas')\n",
        "    plt.show()\n",
        "\n",
        "interact(plot_fdp, prob_cara=FloatSlider(value=0.5, min=0.05, max=0.95, step=0.05), simulaciones=FloatSlider(value=10**4, min=10**3, max=10**5, step=10**3))"
      ]
    },
    {
      "cell_type": "code",
      "execution_count": null,
      "metadata": {
        "id": "ykOFM70G5E8R"
      },
      "outputs": [],
      "source": []
    }
  ],
  "metadata": {
    "colab": {
      "provenance": [],
      "toc_visible": true
    },
    "kernelspec": {
      "display_name": "Python 3 (ipykernel)",
      "language": "python",
      "name": "python3"
    },
    "language_info": {
      "codemirror_mode": {
        "name": "ipython",
        "version": 3
      },
      "file_extension": ".py",
      "mimetype": "text/x-python",
      "name": "python",
      "nbconvert_exporter": "python",
      "pygments_lexer": "ipython3",
      "version": "3.9.12"
    },
    "widgets": {
      "application/vnd.jupyter.widget-state+json": {
        "162580bcbe6d4c71be8da5020321a52d": {
          "model_module": "@jupyter-widgets/controls",
          "model_name": "VBoxModel",
          "model_module_version": "1.5.0",
          "state": {
            "_dom_classes": [
              "widget-interact"
            ],
            "_model_module": "@jupyter-widgets/controls",
            "_model_module_version": "1.5.0",
            "_model_name": "VBoxModel",
            "_view_count": null,
            "_view_module": "@jupyter-widgets/controls",
            "_view_module_version": "1.5.0",
            "_view_name": "VBoxView",
            "box_style": "",
            "children": [
              "IPY_MODEL_e5ae911800ad4a88b76760c43b4544f2",
              "IPY_MODEL_0fb9725397f34e819917e614ff8d9c50",
              "IPY_MODEL_141cd694d0514465b3e4e3d6593802e3"
            ],
            "layout": "IPY_MODEL_e2b221ebb8634c65a31d71704cdf2c61"
          }
        },
        "e5ae911800ad4a88b76760c43b4544f2": {
          "model_module": "@jupyter-widgets/controls",
          "model_name": "FloatSliderModel",
          "model_module_version": "1.5.0",
          "state": {
            "_dom_classes": [],
            "_model_module": "@jupyter-widgets/controls",
            "_model_module_version": "1.5.0",
            "_model_name": "FloatSliderModel",
            "_view_count": null,
            "_view_module": "@jupyter-widgets/controls",
            "_view_module_version": "1.5.0",
            "_view_name": "FloatSliderView",
            "continuous_update": true,
            "description": "prob_cara",
            "description_tooltip": null,
            "disabled": false,
            "layout": "IPY_MODEL_ea54ff11fa94482792e13501ce3fcd2a",
            "max": 0.95,
            "min": 0.05,
            "orientation": "horizontal",
            "readout": true,
            "readout_format": ".2f",
            "step": 0.05,
            "style": "IPY_MODEL_d5382cff391b4b0886ae696802fd4f1c",
            "value": 0.5
          }
        },
        "0fb9725397f34e819917e614ff8d9c50": {
          "model_module": "@jupyter-widgets/controls",
          "model_name": "FloatSliderModel",
          "model_module_version": "1.5.0",
          "state": {
            "_dom_classes": [],
            "_model_module": "@jupyter-widgets/controls",
            "_model_module_version": "1.5.0",
            "_model_name": "FloatSliderModel",
            "_view_count": null,
            "_view_module": "@jupyter-widgets/controls",
            "_view_module_version": "1.5.0",
            "_view_name": "FloatSliderView",
            "continuous_update": true,
            "description": "simulaciones",
            "description_tooltip": null,
            "disabled": false,
            "layout": "IPY_MODEL_099906bffbdd45b68ee796abcaf7f1d4",
            "max": 100000,
            "min": 1000,
            "orientation": "horizontal",
            "readout": true,
            "readout_format": ".2f",
            "step": 1000,
            "style": "IPY_MODEL_351d91e89ded449ea657dea2254d2fff",
            "value": 10000
          }
        },
        "141cd694d0514465b3e4e3d6593802e3": {
          "model_module": "@jupyter-widgets/output",
          "model_name": "OutputModel",
          "model_module_version": "1.0.0",
          "state": {
            "_dom_classes": [],
            "_model_module": "@jupyter-widgets/output",
            "_model_module_version": "1.0.0",
            "_model_name": "OutputModel",
            "_view_count": null,
            "_view_module": "@jupyter-widgets/output",
            "_view_module_version": "1.0.0",
            "_view_name": "OutputView",
            "layout": "IPY_MODEL_038d01c151884c2a8cc6b8f64938de7c",
            "msg_id": "",
            "outputs": [
              {
                "output_type": "display_data",
                "data": {
                  "text/plain": "<Figure size 640x480 with 1 Axes>",
                  "image/png": "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\n"
                },
                "metadata": {}
              }
            ]
          }
        },
        "e2b221ebb8634c65a31d71704cdf2c61": {
          "model_module": "@jupyter-widgets/base",
          "model_name": "LayoutModel",
          "model_module_version": "1.2.0",
          "state": {
            "_model_module": "@jupyter-widgets/base",
            "_model_module_version": "1.2.0",
            "_model_name": "LayoutModel",
            "_view_count": null,
            "_view_module": "@jupyter-widgets/base",
            "_view_module_version": "1.2.0",
            "_view_name": "LayoutView",
            "align_content": null,
            "align_items": null,
            "align_self": null,
            "border": null,
            "bottom": null,
            "display": null,
            "flex": null,
            "flex_flow": null,
            "grid_area": null,
            "grid_auto_columns": null,
            "grid_auto_flow": null,
            "grid_auto_rows": null,
            "grid_column": null,
            "grid_gap": null,
            "grid_row": null,
            "grid_template_areas": null,
            "grid_template_columns": null,
            "grid_template_rows": null,
            "height": null,
            "justify_content": null,
            "justify_items": null,
            "left": null,
            "margin": null,
            "max_height": null,
            "max_width": null,
            "min_height": null,
            "min_width": null,
            "object_fit": null,
            "object_position": null,
            "order": null,
            "overflow": null,
            "overflow_x": null,
            "overflow_y": null,
            "padding": null,
            "right": null,
            "top": null,
            "visibility": null,
            "width": null
          }
        },
        "ea54ff11fa94482792e13501ce3fcd2a": {
          "model_module": "@jupyter-widgets/base",
          "model_name": "LayoutModel",
          "model_module_version": "1.2.0",
          "state": {
            "_model_module": "@jupyter-widgets/base",
            "_model_module_version": "1.2.0",
            "_model_name": "LayoutModel",
            "_view_count": null,
            "_view_module": "@jupyter-widgets/base",
            "_view_module_version": "1.2.0",
            "_view_name": "LayoutView",
            "align_content": null,
            "align_items": null,
            "align_self": null,
            "border": null,
            "bottom": null,
            "display": null,
            "flex": null,
            "flex_flow": null,
            "grid_area": null,
            "grid_auto_columns": null,
            "grid_auto_flow": null,
            "grid_auto_rows": null,
            "grid_column": null,
            "grid_gap": null,
            "grid_row": null,
            "grid_template_areas": null,
            "grid_template_columns": null,
            "grid_template_rows": null,
            "height": null,
            "justify_content": null,
            "justify_items": null,
            "left": null,
            "margin": null,
            "max_height": null,
            "max_width": null,
            "min_height": null,
            "min_width": null,
            "object_fit": null,
            "object_position": null,
            "order": null,
            "overflow": null,
            "overflow_x": null,
            "overflow_y": null,
            "padding": null,
            "right": null,
            "top": null,
            "visibility": null,
            "width": null
          }
        },
        "d5382cff391b4b0886ae696802fd4f1c": {
          "model_module": "@jupyter-widgets/controls",
          "model_name": "SliderStyleModel",
          "model_module_version": "1.5.0",
          "state": {
            "_model_module": "@jupyter-widgets/controls",
            "_model_module_version": "1.5.0",
            "_model_name": "SliderStyleModel",
            "_view_count": null,
            "_view_module": "@jupyter-widgets/base",
            "_view_module_version": "1.2.0",
            "_view_name": "StyleView",
            "description_width": "",
            "handle_color": null
          }
        },
        "099906bffbdd45b68ee796abcaf7f1d4": {
          "model_module": "@jupyter-widgets/base",
          "model_name": "LayoutModel",
          "model_module_version": "1.2.0",
          "state": {
            "_model_module": "@jupyter-widgets/base",
            "_model_module_version": "1.2.0",
            "_model_name": "LayoutModel",
            "_view_count": null,
            "_view_module": "@jupyter-widgets/base",
            "_view_module_version": "1.2.0",
            "_view_name": "LayoutView",
            "align_content": null,
            "align_items": null,
            "align_self": null,
            "border": null,
            "bottom": null,
            "display": null,
            "flex": null,
            "flex_flow": null,
            "grid_area": null,
            "grid_auto_columns": null,
            "grid_auto_flow": null,
            "grid_auto_rows": null,
            "grid_column": null,
            "grid_gap": null,
            "grid_row": null,
            "grid_template_areas": null,
            "grid_template_columns": null,
            "grid_template_rows": null,
            "height": null,
            "justify_content": null,
            "justify_items": null,
            "left": null,
            "margin": null,
            "max_height": null,
            "max_width": null,
            "min_height": null,
            "min_width": null,
            "object_fit": null,
            "object_position": null,
            "order": null,
            "overflow": null,
            "overflow_x": null,
            "overflow_y": null,
            "padding": null,
            "right": null,
            "top": null,
            "visibility": null,
            "width": null
          }
        },
        "351d91e89ded449ea657dea2254d2fff": {
          "model_module": "@jupyter-widgets/controls",
          "model_name": "SliderStyleModel",
          "model_module_version": "1.5.0",
          "state": {
            "_model_module": "@jupyter-widgets/controls",
            "_model_module_version": "1.5.0",
            "_model_name": "SliderStyleModel",
            "_view_count": null,
            "_view_module": "@jupyter-widgets/base",
            "_view_module_version": "1.2.0",
            "_view_name": "StyleView",
            "description_width": "",
            "handle_color": null
          }
        },
        "038d01c151884c2a8cc6b8f64938de7c": {
          "model_module": "@jupyter-widgets/base",
          "model_name": "LayoutModel",
          "model_module_version": "1.2.0",
          "state": {
            "_model_module": "@jupyter-widgets/base",
            "_model_module_version": "1.2.0",
            "_model_name": "LayoutModel",
            "_view_count": null,
            "_view_module": "@jupyter-widgets/base",
            "_view_module_version": "1.2.0",
            "_view_name": "LayoutView",
            "align_content": null,
            "align_items": null,
            "align_self": null,
            "border": null,
            "bottom": null,
            "display": null,
            "flex": null,
            "flex_flow": null,
            "grid_area": null,
            "grid_auto_columns": null,
            "grid_auto_flow": null,
            "grid_auto_rows": null,
            "grid_column": null,
            "grid_gap": null,
            "grid_row": null,
            "grid_template_areas": null,
            "grid_template_columns": null,
            "grid_template_rows": null,
            "height": null,
            "justify_content": null,
            "justify_items": null,
            "left": null,
            "margin": null,
            "max_height": null,
            "max_width": null,
            "min_height": null,
            "min_width": null,
            "object_fit": null,
            "object_position": null,
            "order": null,
            "overflow": null,
            "overflow_x": null,
            "overflow_y": null,
            "padding": null,
            "right": null,
            "top": null,
            "visibility": null,
            "width": null
          }
        }
      }
    }
  },
  "nbformat": 4,
  "nbformat_minor": 0
}