{
 "cells": [
  {
   "cell_type": "markdown",
   "metadata": {
    "id": "tmYW065Z_f9o"
   },
   "source": [
    "<h1 align='center'> INF-280 Estadística Computacional 2023-1 </h1>\n",
    "\n",
    "<H3 align='center'> Tema 3 - Variables Aleatorias Discretas  </H3>"
   ]
  },
  {
   "cell_type": "markdown",
   "metadata": {
    "id": "U_Kcum82_l-Y"
   },
   "source": [
    "### **Datos del grupo**\n"
   ]
  },
  {
   "cell_type": "markdown",
   "metadata": {
    "id": "7-TbhM_FAEy5"
   },
   "source": [
    "\n",
    " Nombre del grupo: Shiny-Broccoli Vampire Hunters\n",
    "\n",
    "*   Christian Barrios - 202104660-7 - [video](https://www.youtube.com/watch?v=dQw4w9WgXcQ)\n",
    "*   Gabriel Venegas - 202104 - [video](https://www.youtube.com/watch?v=dQw4w9WgXcQ)"
   ]
  },
  {
   "cell_type": "markdown",
   "metadata": {
    "id": "IQ1c3H_F_KG6"
   },
   "source": [
    "### **Formalidades**  "
   ]
  },
  {
   "cell_type": "markdown",
   "metadata": {
    "id": "yC57mWJWA6Ij"
   },
   "source": [
    "* Es posible utilizar apuntes, libros, papers, ejemplos y cualquier otro material que desee de internet, pero deben ser ustedes quienes desarrollen los ejercicios y comenten los resultados en el Notebook que entregará. \n",
    "* Se permite el uso de las librerías: pandas, numpy, matplotlib y seaborn. Si desea utilizar otra librería debe indicar cómo instalarla.\n",
    "* Se debe trabajar en grupos de **dos o tres personas**.\n",
    "* Además del Notebook, deberán entregar un video explicando lo que hizo, paso a paso, como en los ejemplos entregados en AULA. Este vídeo es **individual**, es decir, cada integrante debe hacerlo por separado (debiendo utilizar el mismo Jupyter Notebook). El video puede ser subido a una plataforma externa como Youtube, Google Drive, ó Dropbox. El **link a compartir** (*visible para cualquier usuario con el link*) debe ir dentro del Notebook.\n",
    "* La nota de esta actividad es grupal."
   ]
  },
  {
   "cell_type": "markdown",
   "metadata": {
    "id": "kWc7BARoDtQJ"
   },
   "source": [
    "### **Descuentos**"
   ]
  },
  {
   "cell_type": "markdown",
   "metadata": {
    "id": "v0V1nMBHDvLU"
   },
   "source": [
    "* Se descontarán 5 puntos si el nombre del archivo subido no sigue el formato indicado.\n",
    "* Se descontarán 5 puntos por cada hora de atraso en la entrega.\n",
    "* Se descontarán 3 puntos por cada gráfico que no incluya los nombres de los ejes."
   ]
  },
  {
   "cell_type": "markdown",
   "metadata": {
    "id": "Qisu3zwrA1ll"
   },
   "source": [
    "### **Entrega** "
   ]
  },
  {
   "cell_type": "markdown",
   "metadata": {
    "id": "uxFLlu2OA_5b"
   },
   "source": [
    "* **Formato**: Se debe realizar una **única** entrega por grupo (un representate del grupo) a través de  __[**Aula**](https://aula.usm.cl/)__.\n",
    "* **Archivo**: \n",
    "\n",
    "    *   El nombre del archivo a subir debe ser **T3_Nombre_Del_Equipo.ipynb**, por ejemplo, si su equipo se llama \"Llamado de emergencia\", entonces el nombre del archivo debe ser **T3_Llamado_de_emergencia.ipynb**\n",
    "    *   El Jupyter Notebook debe incluir **todos links** a los vídeos explicativos, uno por cada integrante.\n",
    "    *   Cada video debe tener una **duración máxima de 15 minutos**.\n",
    "* **Fecha límite**: Domingo 21 de Mayo hasta las 23:59."
   ]
  },
  {
   "cell_type": "markdown",
   "metadata": {
    "id": "RwELncd0C2nx"
   },
   "source": [
    "<table align='left'>\n",
    "<tr>\n",
    "<td><img src='https://i.ytimg.com/vi/OPxnBv57lbo/maxresdefault.jpg' width='720'/> </td>\n",
    "</tr>"
   ]
  },
  {
   "cell_type": "markdown",
   "metadata": {
    "id": "LdKfR503C7V1"
   },
   "source": [
    "## Contexto"
   ]
  },
  {
   "cell_type": "markdown",
   "metadata": {
    "id": "dZeZNz-CKBuZ"
   },
   "source": [
    "Después de muchos largos días y noches cantando *Peaches*, Bowser ha logrado escapar de la captura de Mario y Peach. Si bien está muy feliz de haber escapado, todavía queda un vacío en su corazón.\n",
    "\n",
    "Ahora, el objetivo de Bowser es reinar el universo, y casarse con Peach para así finalmente lograr esa felicidad que tanto anhela. Sin embargo, hay un obstáculo en su camino: Mario. Bowser no va a dejar que se salga con la suya. Es por esto que Bowser ahora va a dedicar el resto de sus días a la búsqueda de Mario para poder vengarse."
   ]
  },
  {
   "cell_type": "markdown",
   "metadata": {
    "id": "kwPQzDn_JX1I"
   },
   "source": [
    "## Preguntas"
   ]
  },
  {
   "cell_type": "markdown",
   "metadata": {
    "id": "7g1FXAkkJZ6H"
   },
   "source": [
    "**Caminos posibles**\n",
    "\n",
    "Bowser camina por el plano discreto $\\mathbb{N}^2 = \\mathbb{N} \\times \\mathbb{N}$, partiendo en $(0,0)$ y dando pasos unitarios hacia arriba o hacia la derecha, es decir, los desplazamientos permitidos son:\n",
    "$$\n",
    "\\begin{align*}\n",
    "(x,y) &→ (x,y+1) \\\\\n",
    "(x,y) &→ (x+1,y)\n",
    "\\end{align*}\n",
    "$$\n",
    "\n",
    "El objetivo de Bowser es llegar al territorio de Mario, cuya extensión cubre todos los puntos $(x,y)| x \\geq m, y \\geq n$. Como su objetivo es recorrer la menor distancia posible, ha decidido ir al punto $(m,n)$.\n",
    "\n",
    "\n",
    "\n",
    "<img src='https://www.inf.utfsm.cl/~jnancu/Mario.jpg' width='360' style='display:block; margin:auto;'/>\n",
    "\n",
    "\n",
    "\n",
    "Como Bowser no sabe sobre técnicas de conteo (y su grupo ~tampoco~ sí), le ha pedido a su grupo que lo ayude a determinar la cantidad de caminos distintos que puede tomar para llegar al territorio de Mario.\n",
    "\n",
    "1. **(5 pts) [Teoría]** Determine el número de caminos distintos que tiene Bowser para llegar a su destino. Para esto, primero encuentre una fórmula para un destino $(m,n)$ cualquiera. ¿Cuántos caminos distintos existen si $m = 100$ y $n=100$?\n",
    "\n",
    "2. **(10 pts) [Teoría]** Como el viaje para llegar adonde Mario es muy largo y Bowser podría perderse, su amigo Lakitu le propone ayudarlo. Lakitu le dice a Bowser que, en caso de que se pierda, puede regresarlo a un \"Checkpoint\"  $(p,q)$. La única condición para volver a un \"Checkpoint\" es que Bowser debe haber pasado por ese punto previamente. Si los $N$ Checkpoints tienen coordenadas $(p_i,q_i)$, donde se cumple que:\n",
    "$$\n",
    "\\begin{align*}\n",
    "p_i &\\leq p_{i+1} \\\\\n",
    "q_i &\\leq q_{i+1} \\\\\n",
    "(p_i,q_i) &\\neq (p_{i+1},q_{i+1}) \\\\\n",
    "p_i &\\leq m \\\\\n",
    "q_i &\\leq n \n",
    "\\end{align*}\n",
    "$$\n",
    "\n",
    ">Determine el número de caminos posibles que tiene Bowser para llegar a su destino pasando por todos los Checkpoints. Primero, encuentre una fórmula general para $N$ arbitrario. ¿Cuántos caminos distintos existen si los $N=5$ Checkpoints son $(11,13), (29, 31), (53, 47), (71, 67), (89, 97)$ y su destino es $(100,100)$?\n",
    "\n",
    "(De aquí hacia abajo considere que **NO** es necesario que Bowser pase por los checkpoints mencionados anteriormente)\n",
    "\n",
    "**Viajando hacia Mario**\n",
    "\n",
    "3. **(10 pts) [Teoría]** Considerando que Bowser solo realiza pasos unitarios hacia arriba o hacia la derecha **con igual probabilidad**. Obtenga y grafique la f.d.p. de la cantidad de pasos que debe realizar Bowser para llegar al territorio de Mario. Además, utilice la f.d.p. para obtener el valor esperado.**Observación:** No es necesario que Bowser llegue exactamente al punto $(m,n) = (100,100)$.\n",
    "\n",
    "4. **(10 pts) [Simulación]** Estime lo pedido en la pregunta 3 mediante simulación. ¿Que ocurre a medida que el número de simulaciones aumenta?. Considere 1.000, 10.000, 100.000 y 1.000.000 de simulaciones para concluir.\n",
    "\n",
    "5. **(10 pts) [Simulación]** Muestre mediante un gráfico interactivo (Revise el Ejemplo de gráfico interactivo al final de este jupyternotebook) como cambia la distribución de probabilidad de la pregunta 3 si la probabilidad de ir hacia arriba varia entre $(0.05,0.95)$. Además, construya un gráfico para el valor esperado en función de la probabilidad de ir hacia arriba. ¿Qué se puede concluir?. Considere aumentos de $0.05$ para el Slider de la probabilidad.\n",
    "\n",
    "**Viajando deprimido**\n",
    "\n",
    "Debido a que Bowser fue rechazado por la princesa Peach, las voces en su cabeza le dicen que no vale la pena ir a pelear contra Mario, lo cual provoca que en ocasiones se mueva en dirección contraria a su destino, ya sea hacia abajo o hacia la izquierda. Es decir, los movimientos que puede realizar Bowser son:\n",
    "\n",
    "$$\n",
    "\\begin{align*}\n",
    "(x,y) &→ (x,y+1) \\\\\n",
    "(x,y) &→ (x,y-1) \\\\\n",
    "(x,y) &→ (x+1,y) \\\\\n",
    "(x,y) &→ (x-1,y)\n",
    "\\end{align*}\n",
    "$$\n",
    "\n",
    "Donde las probabilidades de ir hacia arriba, abajo, derecha e izquierda son 0.4, 0.3, 0.2 y 0.1 respectivamente. Además, considere que bowser ahora se mueve por el plano discreto $\\mathbb{Z}^2 = \\mathbb{Z} \\times \\mathbb{Z}$.\n",
    "\n",
    "6. **(15 pts) [Teoría]** Obtenga y grafique la f.d.p. de la cantidad de pasos que debe realizar Bowser para llegar al territorio de Mario. Además, utilice la f.d.p. para obtener el valor esperado.\n",
    "\n",
    "7. **(5 pts) [Simulación]** Estime lo pedido en la pregunta 6 mediante simulación.\n",
    "\n",
    "8. **(10 pts) [Simulación]** Considere la función Cansancio $C(x)$ la cual recibe la cantidad de pasos $x$ realizados por Bowser para llegar al territorio de Mario. Esta función se define como:\n",
    "\n",
    "\\begin{equation}\n",
    "C(x) =\n",
    "\\begin{cases}\n",
    "  \\frac{x-1000}{25} + 20 & \\text{si $x \\geq 1000,\\mathrm{}$} \\\\\n",
    "   \\sqrt{x} - 10 & \\text{si $x < 1000,\\mathrm{}$}\n",
    "\\end{cases}\n",
    "\\end{equation} \n",
    "\n",
    "> Obtenga y grafique $C(x)$ mediante simulación. Además, calcule su valor esperado.\n",
    "\n",
    "9. **(15 pts) [Teoría]** Bowser abandonará completamente su viaje hacia el territorio de Mario si se producen 4 movimientos **consecutivos** que no lo acerquen a su destino, es decir, movimientos hacia abajo o hacia la izquierda. ¿Cuál es la probabilidad de que Bowser abandone completamente su viaje?\n",
    "\n",
    "10. **(10 pts) [Simulación]** Estime lo pedido en la pregunta 9 mediante simulación.\n",
    "\n",
    "**Bonus**\n",
    "\n",
    "99. **(10 pts para el certamen) [Simulación]** Estime la probabilidad de que Bowser realice un ciclo de largo $k$, con $k\\leq 10$, mientras se dirige hacia su destino. Realice al menos 500.000 simulaciones para obtener una buena precisión. **Observación:** note que hay ciertos valores de $k$ para los cuales es imposible formar un ciclo. **Recomendación**: Realicen algunas pruebas con una cantidad reducida de simulaciones antes de ejecutar el código con la cantidad total de simulaciones requeridas. De esta manera, se puede verificar que el código funciona correctamente.\n",
    "\n",
    "    Ejemplos de ciclos a partir de un punto arbitrario:\n",
    "\n",
    "<img src='https://drive.google.com/uc?id=19tNcD0e-gbS386-rMiKuaBUE_e2W1WCf' width='900' style='display:block; margin:auto;'/>\n",
    "\n",
    "    "
   ]
  },
  {
   "cell_type": "markdown",
   "metadata": {
    "id": "0-u6cMQeKEqm"
   },
   "source": [
    "## Librerías"
   ]
  },
  {
   "cell_type": "code",
   "execution_count": 1,
   "metadata": {
    "id": "yHdIzA79KIJ6"
   },
   "outputs": [],
   "source": [
    "import pandas as pd\n",
    "import numpy as np\n",
    "import seaborn as sns; sns.set()\n",
    "import matplotlib.pyplot as plt\n",
    "import warnings\n",
    "warnings.filterwarnings(\"ignore\")"
   ]
  },
  {
   "cell_type": "markdown",
   "metadata": {
    "id": "tGu6a0XxjD6C"
   },
   "source": [
    "## Desarrollo"
   ]
  },
  {
   "cell_type": "markdown",
   "metadata": {
    "id": "Kyo8a96GyVVy"
   },
   "source": [
    "### 1)"
   ]
  },
  {
   "cell_type": "code",
   "execution_count": null,
   "metadata": {
    "id": "TY_6wCvtyo2h"
   },
   "outputs": [],
   "source": []
  },
  {
   "cell_type": "markdown",
   "metadata": {
    "id": "qThEFPBFyWa-"
   },
   "source": [
    "### 2)"
   ]
  },
  {
   "cell_type": "code",
   "execution_count": null,
   "metadata": {
    "id": "ArWunon3ypQN"
   },
   "outputs": [],
   "source": []
  },
  {
   "cell_type": "markdown",
   "metadata": {
    "id": "Q2a3AFBmyXp9"
   },
   "source": [
    "### 3)"
   ]
  },
  {
   "cell_type": "code",
   "execution_count": null,
   "metadata": {
    "id": "sqHmy4SOypot"
   },
   "outputs": [],
   "source": [
    "def factorial(x):\n",
    "    if x == 1 or x == 0:\n",
    "        return 1\n",
    "    return x*factorial(x-1)\n",
    "def probaux(m,n,N):\n",
    "    return (factorial(m+n)/(factorial(m)*factorial(n)))/2**(N)\n",
    "def probabilidad(p1,p2,N):\n",
    "    m = p2[0] - p1[0]\n",
    "    n = p2[1] - p1[1]\n",
    "    i = N-m-n\n",
    "    if m+n > N:\n",
    "        return 0\n",
    "    \n",
    "    prob = probaux(m,n,m+n)\n",
    "    if m+n == N:\n",
    "        return prob\n",
    "    \n",
    "    if m+n <= N:\n",
    "        #return probabilidad(p1,p2,N-1)+0.5*probaux(m+i,n-1,N)+0.5*probaux(m-i,n+1,N)\n",
    "        return 0.5*probaux(m+i,n-1,N-1)+0.5*probaux(m-1,n+i,N-1)\n",
    "def esperado(p1,p2):\n",
    "    return esperadoAux(p1,p2,300)\n",
    "def esperadoAux(p1,p2,x):\n",
    "    if x < p2[0]+p2[1]-p1[0]-p1[1]:\n",
    "        return 0\n",
    "    return x*probabilidad(p1,p2,x)+esperadoAux(p1,p2,x-1)\n",
    "\n",
    "p1 = (0,0)\n",
    "p2 = (100,100)\n",
    "N  = 200\n",
    "probabilidad(p1,p2,N)\n",
    "#esperado(p1,p2)"
   ]
  },
  {
   "cell_type": "markdown",
   "metadata": {
    "id": "JqktkKytyZCR"
   },
   "source": [
    "### 4)"
   ]
  },
  {
   "cell_type": "code",
   "execution_count": null,
   "metadata": {
    "id": "z2-UPj1TyqNR"
   },
   "outputs": [],
   "source": [
    "def simulaciones(Total):\n",
    "    m = 100\n",
    "    n = 100\n",
    "\n",
    "    choices = [\"up\",\"right\"]\n",
    "    results = []\n",
    "\n",
    "\n",
    "    for i in range(Total):\n",
    "        notYet = True\n",
    "        x = 0\n",
    "        y = 0\n",
    "\n",
    "        while(notYet):\n",
    "            direction = random.choice(choices)\n",
    "            if direction == \"up\":\n",
    "                y += 1\n",
    "            elif direction == \"right\":\n",
    "                x += 1\n",
    "\n",
    "            if (x >= m) and (y >= n):\n",
    "                notYet = False\n",
    "                results.append(x+y)\n",
    "\n",
    "    r= np.array(results)\n",
    "    unique, counts = np.unique(r, return_counts=True)\n",
    "\n",
    "    probabilitie = []\n",
    "    expectation = 0\n",
    "    i = 0\n",
    "    while i < len(unique):\n",
    "        p = counts[i]/Total\n",
    "        probabilitie.append(p)\n",
    "        expectation += (unique[i] * p)\n",
    "        i+=1\n",
    "\n",
    "    table = {'x': unique, 'f(x) experimental': probabilitie}\n",
    "    df = pd.DataFrame(table)\n",
    "    display(df)\n",
    "    #df.plot(x='x', y = 'f(x) experimental', kind = \"bar\", rot = 0, figsize=(22, 6), ylabel = 'f(x)')\n",
    "    sns.histplot(df, x='x', weights='f(x) experimental', linewidth=0.5, bins = 40)\n",
    "    plt.ylabel(\"f(x) experimental\")\n",
    "    \n",
    "    print(\"Valor esperado con \"+str(Total)+\" simulaciones es:\",expectation)\n",
    "    \n",
    "\n",
    "simulaciones(10**5)\n",
    "#simulaciones(10**4)\n",
    "#simulaciones(10**5)\n",
    "#simulaciones(10**6)"
   ]
  },
  {
   "cell_type": "markdown",
   "metadata": {
    "id": "bum7Hr5iyah5"
   },
   "source": [
    "### 5)"
   ]
  },
  {
   "cell_type": "code",
   "execution_count": null,
   "metadata": {
    "id": "NLvD1OxZyq3n"
   },
   "outputs": [],
   "source": []
  },
  {
   "cell_type": "markdown",
   "metadata": {
    "id": "Gcd25jUtyb--"
   },
   "source": [
    "### 6)"
   ]
  },
  {
   "cell_type": "code",
   "execution_count": 4,
   "metadata": {
    "id": "hDxTtWqwyrRA",
    "tags": []
   },
   "outputs": [
    {
     "data": {
      "text/plain": [
       "0.049416551919756656"
      ]
     },
     "execution_count": 4,
     "metadata": {},
     "output_type": "execute_result"
    }
   ],
   "source": []
  },
  {
   "cell_type": "markdown",
   "metadata": {
    "id": "Q1Ybp6OcydHn"
   },
   "source": [
    "### 7)"
   ]
  },
  {
   "cell_type": "code",
   "execution_count": 1,
   "metadata": {
    "id": "VjgMa20JyrqD"
   },
   "outputs": [
    {
     "data": {
      "text/plain": [
       "5260135901548373507240989882880128665550339802823173859498280903068732154297080822113666536277588451226982968856178217713019432250183803863127814770651880849955223671128444598191663757884322717271293251735781376"
      ]
     },
     "execution_count": 1,
     "metadata": {},
     "output_type": "execute_result"
    }
   ],
   "source": [
    "2**700"
   ]
  },
  {
   "cell_type": "markdown",
   "metadata": {
    "id": "Kx0LQCdRyeUL"
   },
   "source": [
    "### 8)"
   ]
  },
  {
   "cell_type": "code",
   "execution_count": null,
   "metadata": {
    "id": "BAEP9XSFysCF"
   },
   "outputs": [],
   "source": []
  },
  {
   "cell_type": "markdown",
   "metadata": {
    "id": "ZMb3q3kmyfgw"
   },
   "source": [
    "### 9)"
   ]
  },
  {
   "cell_type": "code",
   "execution_count": null,
   "metadata": {
    "id": "9NR_lE4xyskj"
   },
   "outputs": [],
   "source": []
  },
  {
   "cell_type": "markdown",
   "metadata": {
    "id": "XO5QJTB0yg30"
   },
   "source": [
    "### 10)"
   ]
  },
  {
   "cell_type": "code",
   "execution_count": null,
   "metadata": {
    "id": "6vClSFLvytE2"
   },
   "outputs": [],
   "source": []
  },
  {
   "cell_type": "markdown",
   "metadata": {
    "id": "CyYvsByeyiYo"
   },
   "source": [
    "### BONUS"
   ]
  },
  {
   "cell_type": "code",
   "execution_count": null,
   "metadata": {
    "id": "V4GCsOIMykWp"
   },
   "outputs": [],
   "source": []
  },
  {
   "cell_type": "markdown",
   "metadata": {
    "id": "uhbHZhWmyurO"
   },
   "source": [
    "## Ejemplo gráfico interactivo"
   ]
  },
  {
   "cell_type": "markdown",
   "metadata": {
    "id": "5Xl6vjFwAKSX"
   },
   "source": [
    "Se deben ejecutar las dos celdas de abajo para visualizar el gráfico. Además, se recomienda utilizar Colab de Google en caso de tener problemas con ipywidgets."
   ]
  },
  {
   "cell_type": "code",
   "execution_count": 5,
   "metadata": {
    "id": "kTuskCl3yxy1"
   },
   "outputs": [],
   "source": [
    "import random\n",
    "\n",
    "def caras_obtenidas(lanzamientos = 10**2, simulaciones = 10**3, prob_cara = 0.5):\n",
    "    resultados = []\n",
    "    for _ in range(int(simulaciones)):\n",
    "        caras = 0\n",
    "        for _ in range(int(lanzamientos)):\n",
    "            resultado = random.choices([\"Cara\", \"Sello\"], weights = [prob_cara, 1 - prob_cara])[0]\n",
    "            if resultado == \"Cara\":\n",
    "                caras += 1\n",
    "        resultados.append(caras)\n",
    "    resultados = dict(zip(*np.unique(resultados, return_counts=True)))\n",
    "    \n",
    "    for res in resultados:#Se obtienen las frecuencias relativas\n",
    "        resultados[res] = resultados[res]/simulaciones\n",
    "\n",
    "    return resultados"
   ]
  },
  {
   "cell_type": "code",
   "execution_count": 1,
   "metadata": {
    "colab": {
     "base_uri": "https://localhost:8080/",
     "height": 574,
     "referenced_widgets": [
      "de62558ff34e43b0a50cc2d20c587a08",
      "93bb937a1a574dbe92ee02b5706b6c0b",
      "d061efbc1e424977b8fb9c3baf3fc0a6",
      "336626bd746b4268a04a95f871ef2c99",
      "7443a1c8a634499f89bcbbcb18d886c9",
      "fd711767900548adbbb1ab209160fbfb",
      "a9031382f0f54d5497656d24b689f2a8",
      "36757f4d0a4a4db4b7d6fcecd8c3a5a9",
      "4853a328ab404b8589cb2a2134dd178b",
      "27ca40c8169c4ccfa1a73f472534b8d4"
     ]
    },
    "id": "TgqkMQubz97H",
    "outputId": "e0ea80f3-6a8c-44f5-f2d5-cd62866809dc"
   },
   "outputs": [
    {
     "ename": "ModuleNotFoundError",
     "evalue": "No module named 'ipywidgets'",
     "output_type": "error",
     "traceback": [
      "\u001b[1;31m---------------------------------------------------------------------------\u001b[0m",
      "\u001b[1;31mModuleNotFoundError\u001b[0m                       Traceback (most recent call last)",
      "Input \u001b[1;32mIn [1]\u001b[0m, in \u001b[0;36m<cell line: 3>\u001b[1;34m()\u001b[0m\n\u001b[0;32m      1\u001b[0m \u001b[38;5;28;01mimport\u001b[39;00m \u001b[38;5;21;01mnumpy\u001b[39;00m \u001b[38;5;28;01mas\u001b[39;00m \u001b[38;5;21;01mnp\u001b[39;00m\n\u001b[0;32m      2\u001b[0m \u001b[38;5;28;01mimport\u001b[39;00m \u001b[38;5;21;01mmatplotlib\u001b[39;00m\u001b[38;5;21;01m.\u001b[39;00m\u001b[38;5;21;01mpyplot\u001b[39;00m \u001b[38;5;28;01mas\u001b[39;00m \u001b[38;5;21;01mplt\u001b[39;00m\n\u001b[1;32m----> 3\u001b[0m \u001b[38;5;28;01mfrom\u001b[39;00m \u001b[38;5;21;01mipywidgets\u001b[39;00m \u001b[38;5;28;01mimport\u001b[39;00m interact, FloatSlider\n\u001b[0;32m      5\u001b[0m \u001b[38;5;28;01mdef\u001b[39;00m \u001b[38;5;21mplot_fdp\u001b[39m(prob_cara, simulaciones):\n\u001b[0;32m      6\u001b[0m     fdp \u001b[38;5;241m=\u001b[39m caras_obtenidas(simulaciones \u001b[38;5;241m=\u001b[39m simulaciones, prob_cara \u001b[38;5;241m=\u001b[39m prob_cara)\n",
      "\u001b[1;31mModuleNotFoundError\u001b[0m: No module named 'ipywidgets'"
     ]
    }
   ],
   "source": [
    "import numpy as np\n",
    "import matplotlib.pyplot as plt\n",
    "from ipywidgets import interact, FloatSlider\n",
    "\n",
    "def plot_fdp(prob_cara, simulaciones):\n",
    "    fdp = caras_obtenidas(simulaciones = simulaciones, prob_cara = prob_cara)\n",
    "    \n",
    "    eje_x = list(fdp.keys())\n",
    "    eje_y = list(fdp.values())\n",
    "    \n",
    "    plt.plot(eje_x, eje_y)\n",
    "    plt.xlabel('X')\n",
    "    plt.ylabel('f(x)')\n",
    "    plt.title('Función de densidad de probabilidad para\\n el lanzamiento de 100 monedas')\n",
    "    plt.show()\n",
    "\n",
    "interact(plot_fdp, prob_cara=FloatSlider(value=0.5, min=0.05, max=0.95, step=0.05), simulaciones=FloatSlider(value=10**4, min=10**3, max=10**5, step=10**3))"
   ]
  },
  {
   "cell_type": "code",
   "execution_count": null,
   "metadata": {},
   "outputs": [],
   "source": []
  }
 ],
 "metadata": {
  "colab": {
   "provenance": [],
   "toc_visible": true
  },
  "kernelspec": {
   "display_name": "Python 3 (ipykernel)",
   "language": "python",
   "name": "python3"
  },
  "language_info": {
   "codemirror_mode": {
    "name": "ipython",
    "version": 3
   },
   "file_extension": ".py",
   "mimetype": "text/x-python",
   "name": "python",
   "nbconvert_exporter": "python",
   "pygments_lexer": "ipython3",
   "version": "3.9.12"
  },
  "widgets": {
   "application/vnd.jupyter.widget-state+json": {
    "27ca40c8169c4ccfa1a73f472534b8d4": {
     "model_module": "@jupyter-widgets/base",
     "model_module_version": "1.2.0",
     "model_name": "LayoutModel",
     "state": {
      "_model_module": "@jupyter-widgets/base",
      "_model_module_version": "1.2.0",
      "_model_name": "LayoutModel",
      "_view_count": null,
      "_view_module": "@jupyter-widgets/base",
      "_view_module_version": "1.2.0",
      "_view_name": "LayoutView",
      "align_content": null,
      "align_items": null,
      "align_self": null,
      "border": null,
      "bottom": null,
      "display": null,
      "flex": null,
      "flex_flow": null,
      "grid_area": null,
      "grid_auto_columns": null,
      "grid_auto_flow": null,
      "grid_auto_rows": null,
      "grid_column": null,
      "grid_gap": null,
      "grid_row": null,
      "grid_template_areas": null,
      "grid_template_columns": null,
      "grid_template_rows": null,
      "height": null,
      "justify_content": null,
      "justify_items": null,
      "left": null,
      "margin": null,
      "max_height": null,
      "max_width": null,
      "min_height": null,
      "min_width": null,
      "object_fit": null,
      "object_position": null,
      "order": null,
      "overflow": null,
      "overflow_x": null,
      "overflow_y": null,
      "padding": null,
      "right": null,
      "top": null,
      "visibility": null,
      "width": null
     }
    },
    "336626bd746b4268a04a95f871ef2c99": {
     "model_module": "@jupyter-widgets/output",
     "model_module_version": "1.0.0",
     "model_name": "OutputModel",
     "state": {
      "_dom_classes": [],
      "_model_module": "@jupyter-widgets/output",
      "_model_module_version": "1.0.0",
      "_model_name": "OutputModel",
      "_view_count": null,
      "_view_module": "@jupyter-widgets/output",
      "_view_module_version": "1.0.0",
      "_view_name": "OutputView",
      "layout": "IPY_MODEL_27ca40c8169c4ccfa1a73f472534b8d4",
      "msg_id": "",
      "outputs": [
       {
        "data": {
         "image/png": "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\n",
         "text/plain": "<Figure size 640x480 with 1 Axes>"
        },
        "metadata": {},
        "output_type": "display_data"
       }
      ]
     }
    },
    "36757f4d0a4a4db4b7d6fcecd8c3a5a9": {
     "model_module": "@jupyter-widgets/base",
     "model_module_version": "1.2.0",
     "model_name": "LayoutModel",
     "state": {
      "_model_module": "@jupyter-widgets/base",
      "_model_module_version": "1.2.0",
      "_model_name": "LayoutModel",
      "_view_count": null,
      "_view_module": "@jupyter-widgets/base",
      "_view_module_version": "1.2.0",
      "_view_name": "LayoutView",
      "align_content": null,
      "align_items": null,
      "align_self": null,
      "border": null,
      "bottom": null,
      "display": null,
      "flex": null,
      "flex_flow": null,
      "grid_area": null,
      "grid_auto_columns": null,
      "grid_auto_flow": null,
      "grid_auto_rows": null,
      "grid_column": null,
      "grid_gap": null,
      "grid_row": null,
      "grid_template_areas": null,
      "grid_template_columns": null,
      "grid_template_rows": null,
      "height": null,
      "justify_content": null,
      "justify_items": null,
      "left": null,
      "margin": null,
      "max_height": null,
      "max_width": null,
      "min_height": null,
      "min_width": null,
      "object_fit": null,
      "object_position": null,
      "order": null,
      "overflow": null,
      "overflow_x": null,
      "overflow_y": null,
      "padding": null,
      "right": null,
      "top": null,
      "visibility": null,
      "width": null
     }
    },
    "4853a328ab404b8589cb2a2134dd178b": {
     "model_module": "@jupyter-widgets/controls",
     "model_module_version": "1.5.0",
     "model_name": "SliderStyleModel",
     "state": {
      "_model_module": "@jupyter-widgets/controls",
      "_model_module_version": "1.5.0",
      "_model_name": "SliderStyleModel",
      "_view_count": null,
      "_view_module": "@jupyter-widgets/base",
      "_view_module_version": "1.2.0",
      "_view_name": "StyleView",
      "description_width": "",
      "handle_color": null
     }
    },
    "7443a1c8a634499f89bcbbcb18d886c9": {
     "model_module": "@jupyter-widgets/base",
     "model_module_version": "1.2.0",
     "model_name": "LayoutModel",
     "state": {
      "_model_module": "@jupyter-widgets/base",
      "_model_module_version": "1.2.0",
      "_model_name": "LayoutModel",
      "_view_count": null,
      "_view_module": "@jupyter-widgets/base",
      "_view_module_version": "1.2.0",
      "_view_name": "LayoutView",
      "align_content": null,
      "align_items": null,
      "align_self": null,
      "border": null,
      "bottom": null,
      "display": null,
      "flex": null,
      "flex_flow": null,
      "grid_area": null,
      "grid_auto_columns": null,
      "grid_auto_flow": null,
      "grid_auto_rows": null,
      "grid_column": null,
      "grid_gap": null,
      "grid_row": null,
      "grid_template_areas": null,
      "grid_template_columns": null,
      "grid_template_rows": null,
      "height": null,
      "justify_content": null,
      "justify_items": null,
      "left": null,
      "margin": null,
      "max_height": null,
      "max_width": null,
      "min_height": null,
      "min_width": null,
      "object_fit": null,
      "object_position": null,
      "order": null,
      "overflow": null,
      "overflow_x": null,
      "overflow_y": null,
      "padding": null,
      "right": null,
      "top": null,
      "visibility": null,
      "width": null
     }
    },
    "93bb937a1a574dbe92ee02b5706b6c0b": {
     "model_module": "@jupyter-widgets/controls",
     "model_module_version": "1.5.0",
     "model_name": "FloatSliderModel",
     "state": {
      "_dom_classes": [],
      "_model_module": "@jupyter-widgets/controls",
      "_model_module_version": "1.5.0",
      "_model_name": "FloatSliderModel",
      "_view_count": null,
      "_view_module": "@jupyter-widgets/controls",
      "_view_module_version": "1.5.0",
      "_view_name": "FloatSliderView",
      "continuous_update": true,
      "description": "prob_cara",
      "description_tooltip": null,
      "disabled": false,
      "layout": "IPY_MODEL_fd711767900548adbbb1ab209160fbfb",
      "max": 0.95,
      "min": 0.05,
      "orientation": "horizontal",
      "readout": true,
      "readout_format": ".2f",
      "step": 0.05,
      "style": "IPY_MODEL_a9031382f0f54d5497656d24b689f2a8",
      "value": 0.5
     }
    },
    "a9031382f0f54d5497656d24b689f2a8": {
     "model_module": "@jupyter-widgets/controls",
     "model_module_version": "1.5.0",
     "model_name": "SliderStyleModel",
     "state": {
      "_model_module": "@jupyter-widgets/controls",
      "_model_module_version": "1.5.0",
      "_model_name": "SliderStyleModel",
      "_view_count": null,
      "_view_module": "@jupyter-widgets/base",
      "_view_module_version": "1.2.0",
      "_view_name": "StyleView",
      "description_width": "",
      "handle_color": null
     }
    },
    "d061efbc1e424977b8fb9c3baf3fc0a6": {
     "model_module": "@jupyter-widgets/controls",
     "model_module_version": "1.5.0",
     "model_name": "FloatSliderModel",
     "state": {
      "_dom_classes": [],
      "_model_module": "@jupyter-widgets/controls",
      "_model_module_version": "1.5.0",
      "_model_name": "FloatSliderModel",
      "_view_count": null,
      "_view_module": "@jupyter-widgets/controls",
      "_view_module_version": "1.5.0",
      "_view_name": "FloatSliderView",
      "continuous_update": true,
      "description": "simulaciones",
      "description_tooltip": null,
      "disabled": false,
      "layout": "IPY_MODEL_36757f4d0a4a4db4b7d6fcecd8c3a5a9",
      "max": 100000,
      "min": 1000,
      "orientation": "horizontal",
      "readout": true,
      "readout_format": ".2f",
      "step": 1000,
      "style": "IPY_MODEL_4853a328ab404b8589cb2a2134dd178b",
      "value": 10000
     }
    },
    "de62558ff34e43b0a50cc2d20c587a08": {
     "model_module": "@jupyter-widgets/controls",
     "model_module_version": "1.5.0",
     "model_name": "VBoxModel",
     "state": {
      "_dom_classes": [
       "widget-interact"
      ],
      "_model_module": "@jupyter-widgets/controls",
      "_model_module_version": "1.5.0",
      "_model_name": "VBoxModel",
      "_view_count": null,
      "_view_module": "@jupyter-widgets/controls",
      "_view_module_version": "1.5.0",
      "_view_name": "VBoxView",
      "box_style": "",
      "children": [
       "IPY_MODEL_93bb937a1a574dbe92ee02b5706b6c0b",
       "IPY_MODEL_d061efbc1e424977b8fb9c3baf3fc0a6",
       "IPY_MODEL_336626bd746b4268a04a95f871ef2c99"
      ],
      "layout": "IPY_MODEL_7443a1c8a634499f89bcbbcb18d886c9"
     }
    },
    "fd711767900548adbbb1ab209160fbfb": {
     "model_module": "@jupyter-widgets/base",
     "model_module_version": "1.2.0",
     "model_name": "LayoutModel",
     "state": {
      "_model_module": "@jupyter-widgets/base",
      "_model_module_version": "1.2.0",
      "_model_name": "LayoutModel",
      "_view_count": null,
      "_view_module": "@jupyter-widgets/base",
      "_view_module_version": "1.2.0",
      "_view_name": "LayoutView",
      "align_content": null,
      "align_items": null,
      "align_self": null,
      "border": null,
      "bottom": null,
      "display": null,
      "flex": null,
      "flex_flow": null,
      "grid_area": null,
      "grid_auto_columns": null,
      "grid_auto_flow": null,
      "grid_auto_rows": null,
      "grid_column": null,
      "grid_gap": null,
      "grid_row": null,
      "grid_template_areas": null,
      "grid_template_columns": null,
      "grid_template_rows": null,
      "height": null,
      "justify_content": null,
      "justify_items": null,
      "left": null,
      "margin": null,
      "max_height": null,
      "max_width": null,
      "min_height": null,
      "min_width": null,
      "object_fit": null,
      "object_position": null,
      "order": null,
      "overflow": null,
      "overflow_x": null,
      "overflow_y": null,
      "padding": null,
      "right": null,
      "top": null,
      "visibility": null,
      "width": null
     }
    }
   }
  }
 },
 "nbformat": 4,
 "nbformat_minor": 4
}
