{
 "cells": [
  {
   "cell_type": "markdown",
   "metadata": {
    "id": "tmYW065Z_f9o"
   },
   "source": [
    "<h1 align='center'> INF-280 Estadística Computacional 2023-1 </h1>\n",
    "\n",
    "<H3 align='center'> Tema 1 - Análisis Exploratorio de Datos  </H3>"
   ]
  },
  {
   "cell_type": "markdown",
   "metadata": {
    "id": "U_Kcum82_l-Y"
   },
   "source": [
    "### **Datos del grupo**\n"
   ]
  },
  {
   "cell_type": "markdown",
   "metadata": {
    "id": "7-TbhM_FAEy5"
   },
   "source": [
    "\n",
    " Nombre del grupo: NOMBRE\n",
    "\n",
    "*   Christian Barrios - 202104660-7 - [video](https://www.youtube.com/watch?v=dQw4w9WgXcQ)\n",
    "*   Gabriel Venegas - ROL - [video](https://www.youtube.com/watch?v=dQw4w9WgXcQ)\n",
    "\n",
    "*Recuerden que si su grupo se llama \"Llamado de emergencia\", entonces el nombre del archivo debe ser T1_Llamado_de_emergencia.ipynb*"
   ]
  },
  {
   "cell_type": "markdown",
   "metadata": {
    "id": "IQ1c3H_F_KG6"
   },
   "source": [
    "### **Formalidades**  "
   ]
  },
  {
   "cell_type": "markdown",
   "metadata": {
    "id": "yC57mWJWA6Ij"
   },
   "source": [
    "* Es posible utilizar apuntes, libros, papers, ejemplos y cualquier otro material que desee de internet, pero deben ser ustedes quienes desarrollen los ejercicios y comenten los resultados en el Notebook que entregará. \n",
    "* Se permite el uso de las librerías: pandas, numpy, matplotlib y seaborn. Si desea utilizar otra librería debe indicar cómo instalarla.\n",
    "* Se debe trabajar en grupos de **dos o tres personas**.\n",
    "* Además del Notebook, deberán entregar un video explicando lo que hizo, paso a paso, como en los ejemplos entregados en AULA. Este vídeo es **individual**, es decir, cada integrante debe hacerlo por separado (debiendo utilizar el mismo Jupyter Notebook). El video puede ser subido a una plataforma externa como Youtube, Google Drive, ó Dropbox. El **link a compartir** (*visible para cualquier usuario con el link*) debe ir dentro del Notebook.\n",
    "* La nota de esta actividad es grupal."
   ]
  },
  {
   "cell_type": "markdown",
   "metadata": {
    "id": "kWc7BARoDtQJ"
   },
   "source": [
    "### **Descuentos**"
   ]
  },
  {
   "cell_type": "markdown",
   "metadata": {
    "id": "v0V1nMBHDvLU"
   },
   "source": [
    "* Se descontarán 5 puntos si el nombre del archivo subido no sigue el formato indicado.\n",
    "* Se descontarán 5 puntos por cada hora de atraso en la entrega.\n",
    "* Se descontarán 3 puntos por cada gráfico que no incluya los nombres de los ejes.\n",
    "* **Se descontarán hasta 20 puntos por no utilizar la librería pandas** para manipular y analizar los dataframes. Por ejemplo, está penalizado realizar un ciclo `for` para recorrer un dataframe. En su lugar, **deben utilizar las funciones y métodos de pandas** específicamente diseñados para operar con dataframes.\n",
    "\n",
    "    **Ejemplo:**\n",
    "\n",
    "    Si tenemos una columna (ColumnaDeInteres) de un dataframe (df) y queremos obtener la frecuencia de cada valor único en la columna, entonces:\n",
    "```\n",
    "    #El siguiente código recibiría una penalización por utilizar un ciclo for para recorrer un dataframe\n",
    "    frecuencias = {}\n",
    "    for valor in df['ColumnaDeInteres']:\n",
    "        if valor in frecuencias:\n",
    "            frecuencias[valor] += 1\n",
    "        else:\n",
    "            frecuencias[valor] = 1\n",
    "\n",
    "    #En su lugar, podemos hacer lo mismo (y más rápido) de la siguiente manera:\n",
    "\n",
    "    frecuencias = df['ColumnaDeInteres'].value_counts()\n",
    "```"
   ]
  },
  {
   "cell_type": "markdown",
   "metadata": {
    "id": "Qisu3zwrA1ll"
   },
   "source": [
    "### **Entrega** "
   ]
  },
  {
   "cell_type": "markdown",
   "metadata": {
    "id": "uxFLlu2OA_5b"
   },
   "source": [
    "* **Formato**: Se debe realizar una **única** entrega por grupo (un representate del grupo) a través de  __[**Aula**](https://aula.usm.cl/)__.\n",
    "* **Archivo**: \n",
    "\n",
    "    *   El nombre del archivo a subir debe ser **T1_Nombre_Del_Equipo.ipynb**, por ejemplo, si su equipo se llama \"Llamado de emergencia\", entonces el nombre del archivo debe ser **T1_Llamado_de_emergencia.ipynb**\n",
    "    *   El Jupyter Notebook debe incluir **todos links** a los vídeos explicativos, uno por cada integrante.\n",
    "    *   Cada video debe tener una **duracióm máxima de 15 minutos**.\n",
    "* **Fecha límite**: Domingo 2 de Abril hasta las 23:59."
   ]
  },
  {
   "cell_type": "markdown",
   "metadata": {
    "id": "RwELncd0C2nx"
   },
   "source": [
    "<table align='left'>\n",
    "<tr>\n",
    "<td><img src='https://www.xtrafondos.com/wallpapers/resoluciones/19/casa-kame-de-dragon-ball_2560x1440_3963.jpg' width='720'/> </td>\n",
    "</tr>"
   ]
  },
  {
   "cell_type": "markdown",
   "metadata": {
    "id": "LdKfR503C7V1"
   },
   "source": [
    "## Contexto"
   ]
  },
  {
   "cell_type": "markdown",
   "metadata": {
    "id": "dZeZNz-CKBuZ"
   },
   "source": [
    "MyAnimeList, también conocido como MAL, es una aplicación web que se dedica a la información sobre anime, manga y novelas ligeras. Esta aplicación es muy popular entre los fans de anime y manga, ya que les permite buscar, leer reseñas y calificar las series y películas de anime, así como crear listas de seguimiento de sus títulos favoritos.\n",
    "\n",
    "Debido a la gran cantidad de datos que MyAnimeList posee sobre sus usuarios y animes, se le ha solicitado a su grupo que realice una serie de tareas para ayudar a la plataforma a analizar estos datos. Uno de los objetivos principales es identificar el público que más visualiza animes en la plataforma, enfocándonos en su género, edad y cantidad de horas viendo anime.\n",
    "\n",
    "Además, también se les ha pedido realizar un análisis de datos de animes. Esta tarea puede ayudar a identificar los animes más vistos, mejor calificados, más nuevos, entre otros aspectos. Estos datos pueden ser utilizados para crear secciones en la página web de MyAnimeList que muestren esta información, permitiendo a los usuarios conocer los animes más populares y recientes en el sitio.\n",
    "\n",
    "En este taller se trabajaran con los siguientes dataset:\n",
    "\n",
    "* `users.csv`\n",
    "\n",
    "    Contiene información acerca de los usuarios, incluyendo su género, animes completados, animes actualmente viendo, fecha de nacimiento, días viendo anime, entre otros.\n",
    "\n",
    "* `animes.csv`\n",
    "\n",
    "    Contiene información de los animes, incluyendo su título, género, estudio, duration, rating, source (manga, novela ligera, etc), entre otros. \n"
   ]
  },
  {
   "cell_type": "markdown",
   "metadata": {
    "id": "kwPQzDn_JX1I"
   },
   "source": [
    "## Preguntas"
   ]
  },
  {
   "cell_type": "markdown",
   "metadata": {
    "id": "7g1FXAkkJZ6H"
   },
   "source": [
    "Respecto de `users.csv`:\n",
    "\n",
    "1. **(5 pts)** Construya un gráfico de barras para comparar la cantidad de usuarios según género. ¿De qué género son la mayoría de usuarios? \n",
    "2. **(15 pts)** Compare las edades de los usuarios según género utilizando un único boxplot. Realice al menos 3 conclusiones. \n",
    "3. **(10 pts)** Compare la cantidad de `user_days_spent_watching` según género utilizando un único boxplot. Realice al menos 3 conclusiones. \n",
    "4. **(15 pts)** ¿Como cambia su respuesta anterior si, para cada género, se excluye al 5% que más días visualizados tienen y al 5% que menos días visualizados tienen? Realice al menos 3 conclusiones.\n",
    "\n",
    "Respecto de `animes.csv`:\n",
    "\n",
    "5. **(7,5 pts)** Considerando solo las series de anime adaptadas desde un manga (`Type == 'TV'` & `Source == 'Manga'`), ¿Cuáles son las 10 series de anime mejor calificadas (utilice `Score`)? Indique el nombre en ingles (`English name`) y su calificación (`Score`). \n",
    "6. **(7,5 pts)** Considerando solo las series de anime adaptadas desde un manga (`Type == 'TV'` & `Source == 'Manga'`), ¿Cuáles son las 10 series de anime que más veces han sido agregadas a Favoritas (`Favorites`) por los usuarios? Indique el nombre en ingles (`English name`) y su calificación (`Score`). \n",
    "7. **(20 pts)** ¿Cuáles son los 5 géneros (`Genres`) más populares de las series de anime adaptadas desde un Manga (`Type == 'TV'` & `Source == 'Manga'`)? **IMPORTANTE:** Note que si una serie tiene más de un género, entonces todos estos géneros son almacenados como un único valor (separado por comas) en el campo `Genres`. Además, note que luego de una coma podría existir un espacio en blanco, lo que podría provocar que un mismo género aparezca 2 veces, una sin un espacio en blanco al principio y otra con un espacio en blanco al principio. \n",
    "8. **(10 pts)** Compare mediante un histograma la calificación (`Score`) de las series de anime (`Type == 'TV'` & `Source == 'Manga'`) de los generos `Genres = Seinen` y `Genres = Shounen`. ¿Qué se puede concluir? \n",
    "9. **(10 pts)** Cree la función `Recomendar_TopN(genero: str, n: int)`, la cual:\n",
    "    * Recibe un único género (`genero`) y un número (`n`).\n",
    "    * Obtiene los `n` mejores animes (según `score`) que sean de `genre = genero`\n",
    "    * Retorna un dataframe con los campos Rank, Title y Score. Donde Rank va desde 1 hasta n (los `n` mejores animes).\n",
    "\n",
    " >Ejecute su función utilizando `genero = Comedy` y `n = 10` y muestre por pantalla el dataframe.\n",
    "\n",
    "\n",
    "**BONUS**:\n",
    "\n",
    "10. **(10 pts)** Cree la función `Recomendar_TopN_multi(list_generos: list, n: int)`, la cual:\n",
    "    * Recibe una lista de géneros (`list_generos`) y un número (`n`).\n",
    "    * Obtiene los `n` mejores animes (según `score`) que contengan **todos** los generos de la lista `list_generos`. En caso de que no existan suficientes animes que cumplan con los géneros pedidos, entonces se deben retornar solo aquellos que si cumplan lo pedido. \n",
    "    * Retorna un dataframe con los campos Rank, Title y Score. Donde Rank va desde 1 hasta n (los `n` mejores animes).\n",
    "\n",
    " >Ejecute su función para `list_generos = [Comedy, Shounen]` y `n = 10` y muestre por pantalla el dataframe."
   ]
  },
  {
   "cell_type": "markdown",
   "metadata": {
    "id": "0-u6cMQeKEqm"
   },
   "source": [
    "## Librerías"
   ]
  },
  {
   "cell_type": "code",
   "execution_count": 1,
   "metadata": {
    "id": "yHdIzA79KIJ6",
    "tags": []
   },
   "outputs": [],
   "source": [
    "import pandas as pd\n",
    "import numpy as np\n",
    "import seaborn as sns; sns.set()\n",
    "import matplotlib.pyplot as plt\n",
    "import warnings\n",
    "warnings.filterwarnings(\"ignore\")"
   ]
  },
  {
   "cell_type": "markdown",
   "metadata": {
    "id": "skLaXDoXKUhZ"
   },
   "source": [
    "## Lectura de Datos"
   ]
  },
  {
   "cell_type": "code",
   "execution_count": 2,
   "metadata": {
    "id": "mmwiOEQ-KSwH",
    "tags": []
   },
   "outputs": [],
   "source": [
    "df_users  = pd.read_csv('https://drive.google.com/uc?id=1Zm4lUmigUnPk4yooFqDSVRw0d_fqqWTx')\n",
    "df_animes = pd.read_csv('https://drive.google.com/uc?id=1dkFdmxmEF9VB-BAdZbnSIFOONU8yPkHW')"
   ]
  },
  {
   "cell_type": "code",
   "execution_count": 3,
   "metadata": {
    "id": "ZiVPta-8Qh54",
    "tags": []
   },
   "outputs": [
    {
     "data": {
      "text/plain": [
       "Index(['username', 'user_id', 'user_watching', 'user_completed', 'user_onhold',\n",
       "       'user_dropped', 'user_plantowatch', 'user_days_spent_watching',\n",
       "       'gender', 'location', 'birth_date', 'access_rank', 'join_date',\n",
       "       'last_online', 'stats_mean_score', 'stats_rewatched', 'stats_episodes'],\n",
       "      dtype='object')"
      ]
     },
     "execution_count": 3,
     "metadata": {},
     "output_type": "execute_result"
    }
   ],
   "source": [
    "df_users.columns"
   ]
  },
  {
   "cell_type": "markdown",
   "metadata": {
    "id": "tGu6a0XxjD6C"
   },
   "source": [
    "## Desarrollo"
   ]
  },
  {
   "cell_type": "markdown",
   "metadata": {
    "id": "3J5zmxV-jxL-"
   },
   "source": [
    "### 1) Cantidad de usuarios según género"
   ]
  },
  {
   "cell_type": "code",
   "execution_count": 4,
   "metadata": {
    "tags": []
   },
   "outputs": [
    {
     "data": {
      "image/png": "[encoded data removed]",
      "text/plain": [
       "<Figure size 640x480 with 1 Axes>"
      ]
     },
     "metadata": {},
     "output_type": "display_data"
    }
   ],
   "source": [
    "genderFreq = df_users['gender'].value_counts()\n",
    "genderFreq.plot(kind = 'bar')\n",
    "plt.xlabel('Genero')\n",
    "plt.ylabel('Frecuencia')\n",
    "plt.show()"
   ]
  },
  {
   "cell_type": "markdown",
   "metadata": {
    "id": "geTNdpB-rHR5"
   },
   "source": [
    "### 2)"
   ]
  },
  {
   "cell_type": "code",
   "execution_count": 5,
   "metadata": {
    "id": "ArJ2kxFJQiVN",
    "tags": []
   },
   "outputs": [
    {
     "data": {
      "image/png": "[encoded data removed]",
      "text/plain": [
       "<Figure size 640x480 with 1 Axes>"
      ]
     },
     "metadata": {},
     "output_type": "display_data"
    }
   ],
   "source": [
    "#obviaremos la hora de nacimiendo\n",
    "def calcularEdad(fecha_nacimiento):\n",
    "    actual = '2023-04-02'.split('-')\n",
    "    bd = fecha_nacimiento.strip().split(' ')[0].split('-')\n",
    "    #actual = int(actual[0])*365+int(actual[1])*30+int(actual[2])*1\n",
    "    #bd = int(bd[0])*365+int(bd[1])*30+int(bd[2])*1\n",
    "    return int(actual[0]) - int(bd[0])\n",
    "\n",
    "df_users['age'] = df_users['birth_date'].apply(calcularEdad)\n",
    "masculino = df_users.loc[df_users['gender'] == 'Male']['age']\n",
    "femenino = df_users.loc[df_users['gender'] == 'Female']['age']\n",
    "no_binario = df_users.loc[df_users['gender'] == 'Non-Binary']['age']\n",
    "\n",
    "plt.boxplot([masculino,femenino,no_binario])\n",
    "plt.xlabel('genero')\n",
    "plt.ylabel('edad')\n",
    "plt.xticks([1, 2, 3], ['Masculino', 'Femenino', 'No Binario'])\n",
    "plt.show()"
   ]
  },
  {
   "cell_type": "markdown",
   "metadata": {
    "id": "r7Fiq16HzZpM"
   },
   "source": [
    "### 3)\n"
   ]
  },
  {
   "cell_type": "code",
   "execution_count": 6,
   "metadata": {
    "id": "V5hNzzDUQhdG"
   },
   "outputs": [
    {
     "data": {
      "image/png": "[encoded data removed]",
      "text/plain": [
       "<Figure size 640x480 with 1 Axes>"
      ]
     },
     "metadata": {},
     "output_type": "display_data"
    }
   ],
   "source": [
    "masculino = df_users.loc[df_users['gender'] == 'Male']['user_days_spent_watching']\n",
    "femenino = df_users.loc[df_users['gender'] == 'Female']['user_days_spent_watching']\n",
    "no_binario = df_users.loc[df_users['gender'] == 'Non-Binary']['user_days_spent_watching']\n",
    "\n",
    "plt.boxplot([masculino,femenino,no_binario])\n",
    "plt.xlabel('Genero')\n",
    "plt.ylabel('Días de visualización')\n",
    "plt.xticks([1, 2, 3], ['Masculino', 'Femenino', 'No Binario'])\n",
    "plt.show()"
   ]
  },
  {
   "cell_type": "markdown",
   "metadata": {
    "id": "yzqXWSd7zb54"
   },
   "source": [
    "### 4)"
   ]
  },
  {
   "cell_type": "code",
   "execution_count": 7,
   "metadata": {
    "id": "DNgw8MfXQisN",
    "tags": []
   },
   "outputs": [
    {
     "data": {
      "image/png": "[encoded data removed]",
      "text/plain": [
       "<Figure size 640x480 with 1 Axes>"
      ]
     },
     "metadata": {},
     "output_type": "display_data"
    }
   ],
   "source": [
    "malem = masculino.quantile(q = 0.05)\n",
    "maleM = masculino.quantile(q = 0.95)\n",
    "femalem = femenino.quantile(q = 0.05)\n",
    "femaleM = femenino.quantile(q = 0.95)\n",
    "nonbm = no_binario.quantile(q = 0.05)\n",
    "nonbM = no_binario.quantile(q = 0.95)\n",
    "\n",
    "masculino = masculino.loc[ (masculino>malem) & (masculino<maleM)]\n",
    "femenino = femenino.loc[ (femenino>femalem) & (femenino<femaleM)]\n",
    "no_binario = no_binario.loc[ (no_binario>nonbm) & (no_binario<nonbM)]\n",
    "\n",
    "plt.boxplot([masculino,femenino,no_binario])\n",
    "plt.xlabel('Genero')\n",
    "plt.ylabel('Días de visualización')\n",
    "plt.xticks([1, 2, 3], ['Masculino', 'Femenino', 'No Binario'])\n",
    "plt.show()"
   ]
  },
  {
   "cell_type": "markdown",
   "metadata": {
    "id": "VatfedVKzd7W"
   },
   "source": [
    "### 5)"
   ]
  },
  {
   "cell_type": "code",
   "execution_count": 8,
   "metadata": {
    "id": "k8_TzPZ1QhBG",
    "tags": []
   },
   "outputs": [
    {
     "data": {
      "text/plain": [
       "Index(['MAL_ID', 'Name', 'Score', 'Genres', 'English name', 'Japanese name',\n",
       "       'Type', 'Episodes', 'Aired', 'Premiered', 'Producers', 'Licensors',\n",
       "       'Studios', 'Source', 'Duration', 'Rating', 'Ranked', 'Popularity',\n",
       "       'Members', 'Favorites', 'Watching', 'Completed', 'On-Hold', 'Dropped',\n",
       "       'Plan to Watch', 'Score-10', 'Score-9', 'Score-8', 'Score-7', 'Score-6',\n",
       "       'Score-5', 'Score-4', 'Score-3', 'Score-2', 'Score-1'],\n",
       "      dtype='object')"
      ]
     },
     "execution_count": 8,
     "metadata": {},
     "output_type": "execute_result"
    }
   ],
   "source": [
    "df_animes.columns"
   ]
  },
  {
   "cell_type": "code",
   "execution_count": 27,
   "metadata": {
    "tags": []
   },
   "outputs": [
    {
     "data": {
      "text/html": [
       "<div>\n",
       "<style scoped>\n",
       "    .dataframe tbody tr th:only-of-type {\n",
       "        vertical-align: middle;\n",
       "    }\n",
       "\n",
       "    .dataframe tbody tr th {\n",
       "        vertical-align: top;\n",
       "    }\n",
       "\n",
       "    .dataframe thead th {\n",
       "        text-align: right;\n",
       "    }\n",
       "</style>\n",
       "<table border=\"1\" class=\"dataframe\">\n",
       "  <thead>\n",
       "    <tr style=\"text-align: right;\">\n",
       "      <th></th>\n",
       "      <th>English name</th>\n",
       "      <th>Score</th>\n",
       "    </tr>\n",
       "  </thead>\n",
       "  <tbody>\n",
       "    <tr>\n",
       "      <th>3971</th>\n",
       "      <td>Fullmetal Alchemist:Brotherhood</td>\n",
       "      <td>9.19</td>\n",
       "    </tr>\n",
       "    <tr>\n",
       "      <th>15926</th>\n",
       "      <td>Attack on Titan Final Season</td>\n",
       "      <td>9.17</td>\n",
       "    </tr>\n",
       "    <tr>\n",
       "      <th>9913</th>\n",
       "      <td>Gintama Season 4</td>\n",
       "      <td>9.1</td>\n",
       "    </tr>\n",
       "    <tr>\n",
       "      <th>14963</th>\n",
       "      <td>Attack on Titan Season 3 Part 2</td>\n",
       "      <td>9.1</td>\n",
       "    </tr>\n",
       "    <tr>\n",
       "      <th>6474</th>\n",
       "      <td>Hunter x Hunter</td>\n",
       "      <td>9.1</td>\n",
       "    </tr>\n",
       "    <tr>\n",
       "      <th>6006</th>\n",
       "      <td>Gintama Season 2</td>\n",
       "      <td>9.08</td>\n",
       "    </tr>\n",
       "    <tr>\n",
       "      <th>7261</th>\n",
       "      <td>Gintama:Enchousen</td>\n",
       "      <td>9.04</td>\n",
       "    </tr>\n",
       "    <tr>\n",
       "      <th>12898</th>\n",
       "      <td>March Comes In Like A Lion 2nd Season</td>\n",
       "      <td>9.0</td>\n",
       "    </tr>\n",
       "    <tr>\n",
       "      <th>12242</th>\n",
       "      <td>Gintama Season 5</td>\n",
       "      <td>8.99</td>\n",
       "    </tr>\n",
       "    <tr>\n",
       "      <th>833</th>\n",
       "      <td>Gintama</td>\n",
       "      <td>8.96</td>\n",
       "    </tr>\n",
       "  </tbody>\n",
       "</table>\n",
       "</div>"
      ],
      "text/plain": [
       "                                English name Score\n",
       "3971         Fullmetal Alchemist:Brotherhood  9.19\n",
       "15926           Attack on Titan Final Season  9.17\n",
       "9913                        Gintama Season 4   9.1\n",
       "14963        Attack on Titan Season 3 Part 2   9.1\n",
       "6474                         Hunter x Hunter   9.1\n",
       "6006                        Gintama Season 2  9.08\n",
       "7261                       Gintama:Enchousen  9.04\n",
       "12898  March Comes In Like A Lion 2nd Season   9.0\n",
       "12242                       Gintama Season 5  8.99\n",
       "833                                  Gintama  8.96"
      ]
     },
     "execution_count": 27,
     "metadata": {},
     "output_type": "execute_result"
    }
   ],
   "source": [
    "df_animanga = df_animes.loc[(df_animes['Source']== 'Manga') & ((df_animes['Type']== 'TV')),['English name','Score']]\n",
    "df_animanga = df_animanga[df_animes['Score'] != 'Unknown']\n",
    "df_animanga.sort_values('Score', ascending = False).head(10)\n"
   ]
  },
  {
   "cell_type": "markdown",
   "metadata": {
    "id": "8H3c9lLnzfob"
   },
   "source": [
    "### 6)"
   ]
  },
  {
   "cell_type": "code",
   "execution_count": 30,
   "metadata": {
    "id": "y3_dOCATQgdA",
    "tags": []
   },
   "outputs": [
    {
     "data": {
      "text/html": [
       "<div>\n",
       "<style scoped>\n",
       "    .dataframe tbody tr th:only-of-type {\n",
       "        vertical-align: middle;\n",
       "    }\n",
       "\n",
       "    .dataframe tbody tr th {\n",
       "        vertical-align: top;\n",
       "    }\n",
       "\n",
       "    .dataframe thead th {\n",
       "        text-align: right;\n",
       "    }\n",
       "</style>\n",
       "<table border=\"1\" class=\"dataframe\">\n",
       "  <thead>\n",
       "    <tr style=\"text-align: right;\">\n",
       "      <th></th>\n",
       "      <th>English name</th>\n",
       "      <th>Favorites</th>\n",
       "      <th>Score</th>\n",
       "    </tr>\n",
       "  </thead>\n",
       "  <tbody>\n",
       "    <tr>\n",
       "      <th>3971</th>\n",
       "      <td>Fullmetal Alchemist:Brotherhood</td>\n",
       "      <td>183914</td>\n",
       "      <td>9.19</td>\n",
       "    </tr>\n",
       "    <tr>\n",
       "      <th>6474</th>\n",
       "      <td>Hunter x Hunter</td>\n",
       "      <td>147274</td>\n",
       "      <td>9.1</td>\n",
       "    </tr>\n",
       "    <tr>\n",
       "      <th>1393</th>\n",
       "      <td>Death Note</td>\n",
       "      <td>145201</td>\n",
       "      <td>8.63</td>\n",
       "    </tr>\n",
       "    <tr>\n",
       "      <th>7449</th>\n",
       "      <td>Attack on Titan</td>\n",
       "      <td>129844</td>\n",
       "      <td>8.48</td>\n",
       "    </tr>\n",
       "    <tr>\n",
       "      <th>11</th>\n",
       "      <td>One Piece</td>\n",
       "      <td>126645</td>\n",
       "      <td>8.52</td>\n",
       "    </tr>\n",
       "    <tr>\n",
       "      <th>1574</th>\n",
       "      <td>Naruto:Shippuden</td>\n",
       "      <td>84651</td>\n",
       "      <td>8.16</td>\n",
       "    </tr>\n",
       "    <tr>\n",
       "      <th>8883</th>\n",
       "      <td>Your Lie in April</td>\n",
       "      <td>69557</td>\n",
       "      <td>8.74</td>\n",
       "    </tr>\n",
       "    <tr>\n",
       "      <th>10</th>\n",
       "      <td>Naruto</td>\n",
       "      <td>65586</td>\n",
       "      <td>7.91</td>\n",
       "    </tr>\n",
       "    <tr>\n",
       "      <th>8305</th>\n",
       "      <td>Haikyu!!</td>\n",
       "      <td>54887</td>\n",
       "      <td>8.53</td>\n",
       "    </tr>\n",
       "    <tr>\n",
       "      <th>245</th>\n",
       "      <td>Bleach</td>\n",
       "      <td>54386</td>\n",
       "      <td>7.8</td>\n",
       "    </tr>\n",
       "  </tbody>\n",
       "</table>\n",
       "</div>"
      ],
      "text/plain": [
       "                         English name  Favorites Score\n",
       "3971  Fullmetal Alchemist:Brotherhood     183914  9.19\n",
       "6474                  Hunter x Hunter     147274   9.1\n",
       "1393                       Death Note     145201  8.63\n",
       "7449                  Attack on Titan     129844  8.48\n",
       "11                          One Piece     126645  8.52\n",
       "1574                 Naruto:Shippuden      84651  8.16\n",
       "8883                Your Lie in April      69557  8.74\n",
       "10                             Naruto      65586  7.91\n",
       "8305                         Haikyu!!      54887  8.53\n",
       "245                            Bleach      54386   7.8"
      ]
     },
     "execution_count": 30,
     "metadata": {},
     "output_type": "execute_result"
    }
   ],
   "source": [
    "df_animanga = df_animes.loc[(df_animes['Source']== 'Manga') & ((df_animes['Type']== 'TV')),['English name','Favorites','Score']]\n",
    "df_animanga.sort_values('Favorites', ascending = False).head(10)\n"
   ]
  },
  {
   "cell_type": "markdown",
   "metadata": {
    "id": "3EKrJFbKzhEO"
   },
   "source": [
    "### 7)"
   ]
  },
  {
   "cell_type": "code",
   "execution_count": 47,
   "metadata": {
    "id": "mxofbLk4QgKh",
    "tags": []
   },
   "outputs": [
    {
     "ename": "TypeError",
     "evalue": "unhashable type: 'list'",
     "output_type": "error",
     "traceback": [
      "\u001b[0;31m---------------------------------------------------------------------------\u001b[0m",
      "\u001b[0;31mTypeError\u001b[0m                                 Traceback (most recent call last)",
      "Cell \u001b[0;32mIn[47], line 9\u001b[0m\n\u001b[1;32m      7\u001b[0m df_animanga \u001b[38;5;241m=\u001b[39m df_animes\u001b[38;5;241m.\u001b[39mloc[(df_animes[\u001b[38;5;124m'\u001b[39m\u001b[38;5;124mSource\u001b[39m\u001b[38;5;124m'\u001b[39m]\u001b[38;5;241m==\u001b[39m \u001b[38;5;124m'\u001b[39m\u001b[38;5;124mManga\u001b[39m\u001b[38;5;124m'\u001b[39m) \u001b[38;5;241m&\u001b[39m ((df_animes[\u001b[38;5;124m'\u001b[39m\u001b[38;5;124mType\u001b[39m\u001b[38;5;124m'\u001b[39m]\u001b[38;5;241m==\u001b[39m \u001b[38;5;124m'\u001b[39m\u001b[38;5;124mTV\u001b[39m\u001b[38;5;124m'\u001b[39m)),[\u001b[38;5;124m'\u001b[39m\u001b[38;5;124mEnglish name\u001b[39m\u001b[38;5;124m'\u001b[39m,\u001b[38;5;124m'\u001b[39m\u001b[38;5;124mPopularity\u001b[39m\u001b[38;5;124m'\u001b[39m,\u001b[38;5;124m'\u001b[39m\u001b[38;5;124mGenres\u001b[39m\u001b[38;5;124m'\u001b[39m]]\n\u001b[1;32m      8\u001b[0m df_animanga[\u001b[38;5;124m'\u001b[39m\u001b[38;5;124mGenres\u001b[39m\u001b[38;5;124m'\u001b[39m] \u001b[38;5;241m=\u001b[39m df_animanga[\u001b[38;5;124m'\u001b[39m\u001b[38;5;124mGenres\u001b[39m\u001b[38;5;124m'\u001b[39m]\u001b[38;5;241m.\u001b[39mapply(genresList)\n\u001b[0;32m----> 9\u001b[0m \u001b[43mdf_animanga\u001b[49m\u001b[43m[\u001b[49m\u001b[38;5;124;43m'\u001b[39;49m\u001b[38;5;124;43mGenres\u001b[39;49m\u001b[38;5;124;43m'\u001b[39;49m\u001b[43m]\u001b[49m\u001b[38;5;241;43m.\u001b[39;49m\u001b[43munique\u001b[49m\u001b[43m(\u001b[49m\u001b[43m)\u001b[49m\n",
      "File \u001b[0;32m~/.local/lib/python3.8/site-packages/pandas/core/series.py:2242\u001b[0m, in \u001b[0;36mSeries.unique\u001b[0;34m(self)\u001b[0m\n\u001b[1;32m   2183\u001b[0m \u001b[38;5;28;01mdef\u001b[39;00m \u001b[38;5;21munique\u001b[39m(\u001b[38;5;28mself\u001b[39m) \u001b[38;5;241m-\u001b[39m\u001b[38;5;241m>\u001b[39m ArrayLike:\n\u001b[1;32m   2184\u001b[0m \u001b[38;5;250m    \u001b[39m\u001b[38;5;124;03m\"\"\"\u001b[39;00m\n\u001b[1;32m   2185\u001b[0m \u001b[38;5;124;03m    Return unique values of Series object.\u001b[39;00m\n\u001b[1;32m   2186\u001b[0m \n\u001b[0;32m   (...)\u001b[0m\n\u001b[1;32m   2240\u001b[0m \u001b[38;5;124;03m    Categories (3, object): ['a' < 'b' < 'c']\u001b[39;00m\n\u001b[1;32m   2241\u001b[0m \u001b[38;5;124;03m    \"\"\"\u001b[39;00m\n\u001b[0;32m-> 2242\u001b[0m     \u001b[38;5;28;01mreturn\u001b[39;00m \u001b[38;5;28;43msuper\u001b[39;49m\u001b[43m(\u001b[49m\u001b[43m)\u001b[49m\u001b[38;5;241;43m.\u001b[39;49m\u001b[43munique\u001b[49m\u001b[43m(\u001b[49m\u001b[43m)\u001b[49m\n",
      "File \u001b[0;32m~/.local/lib/python3.8/site-packages/pandas/core/base.py:1001\u001b[0m, in \u001b[0;36mIndexOpsMixin.unique\u001b[0;34m(self)\u001b[0m\n\u001b[1;32m    999\u001b[0m         result \u001b[38;5;241m=\u001b[39m np\u001b[38;5;241m.\u001b[39masarray(result)\n\u001b[1;32m   1000\u001b[0m \u001b[38;5;28;01melse\u001b[39;00m:\n\u001b[0;32m-> 1001\u001b[0m     result \u001b[38;5;241m=\u001b[39m \u001b[43munique1d\u001b[49m\u001b[43m(\u001b[49m\u001b[43mvalues\u001b[49m\u001b[43m)\u001b[49m\n\u001b[1;32m   1003\u001b[0m \u001b[38;5;28;01mreturn\u001b[39;00m result\n",
      "File \u001b[0;32m~/.local/lib/python3.8/site-packages/pandas/core/algorithms.py:409\u001b[0m, in \u001b[0;36munique\u001b[0;34m(values)\u001b[0m\n\u001b[1;32m    315\u001b[0m \u001b[38;5;28;01mdef\u001b[39;00m \u001b[38;5;21munique\u001b[39m(values):\n\u001b[1;32m    316\u001b[0m \u001b[38;5;250m    \u001b[39m\u001b[38;5;124;03m\"\"\"\u001b[39;00m\n\u001b[1;32m    317\u001b[0m \u001b[38;5;124;03m    Return unique values based on a hash table.\u001b[39;00m\n\u001b[1;32m    318\u001b[0m \n\u001b[0;32m   (...)\u001b[0m\n\u001b[1;32m    407\u001b[0m \u001b[38;5;124;03m    array([('a', 'b'), ('b', 'a'), ('a', 'c')], dtype=object)\u001b[39;00m\n\u001b[1;32m    408\u001b[0m \u001b[38;5;124;03m    \"\"\"\u001b[39;00m\n\u001b[0;32m--> 409\u001b[0m     \u001b[38;5;28;01mreturn\u001b[39;00m \u001b[43munique_with_mask\u001b[49m\u001b[43m(\u001b[49m\u001b[43mvalues\u001b[49m\u001b[43m)\u001b[49m\n",
      "File \u001b[0;32m~/.local/lib/python3.8/site-packages/pandas/core/algorithms.py:425\u001b[0m, in \u001b[0;36munique_with_mask\u001b[0;34m(values, mask)\u001b[0m\n\u001b[1;32m    423\u001b[0m table \u001b[38;5;241m=\u001b[39m htable(\u001b[38;5;28mlen\u001b[39m(values))\n\u001b[1;32m    424\u001b[0m \u001b[38;5;28;01mif\u001b[39;00m mask \u001b[38;5;129;01mis\u001b[39;00m \u001b[38;5;28;01mNone\u001b[39;00m:\n\u001b[0;32m--> 425\u001b[0m     uniques \u001b[38;5;241m=\u001b[39m \u001b[43mtable\u001b[49m\u001b[38;5;241;43m.\u001b[39;49m\u001b[43munique\u001b[49m\u001b[43m(\u001b[49m\u001b[43mvalues\u001b[49m\u001b[43m)\u001b[49m\n\u001b[1;32m    426\u001b[0m     uniques \u001b[38;5;241m=\u001b[39m _reconstruct_data(uniques, original\u001b[38;5;241m.\u001b[39mdtype, original)\n\u001b[1;32m    427\u001b[0m     \u001b[38;5;28;01mreturn\u001b[39;00m uniques\n",
      "File \u001b[0;32mpandas/_libs/hashtable_class_helper.pxi:5910\u001b[0m, in \u001b[0;36mpandas._libs.hashtable.PyObjectHashTable.unique\u001b[0;34m()\u001b[0m\n",
      "File \u001b[0;32mpandas/_libs/hashtable_class_helper.pxi:5857\u001b[0m, in \u001b[0;36mpandas._libs.hashtable.PyObjectHashTable._unique\u001b[0;34m()\u001b[0m\n",
      "\u001b[0;31mTypeError\u001b[0m: unhashable type: 'list'"
     ]
    }
   ],
   "source": [
    "def genresList(genres):\n",
    "    genres = genres.strip().split(',')\n",
    "    for genre in genres:\n",
    "        genre.strip()\n",
    "    return genres\n",
    "\n",
    "df_animanga = df_animes.loc[(df_animes['Source']== 'Manga') & ((df_animes['Type']== 'TV')),['Popularity','Genres']]\n",
    "df_animanga['Genres'] = df_animanga['Genres'].apply(genresList)\n",
    "df_animegenres = df_animanga.loc[]['Popularity']"
   ]
  },
  {
   "cell_type": "markdown",
   "metadata": {
    "id": "J7I9HaO5ziEg"
   },
   "source": [
    "### 8)"
   ]
  },
  {
   "cell_type": "code",
   "execution_count": null,
   "metadata": {
    "id": "f7deGlVqQfya"
   },
   "outputs": [],
   "source": []
  },
  {
   "cell_type": "markdown",
   "metadata": {
    "id": "WmXQW4-czkmr"
   },
   "source": [
    "### 9)"
   ]
  },
  {
   "cell_type": "code",
   "execution_count": null,
   "metadata": {
    "id": "LaqnE0_vzm5I"
   },
   "outputs": [],
   "source": []
  },
  {
   "cell_type": "markdown",
   "metadata": {
    "id": "rBugTbOCznT8"
   },
   "source": [
    "### BONUS"
   ]
  },
  {
   "cell_type": "code",
   "execution_count": null,
   "metadata": {
    "id": "iJ_6Nz0dzpr7"
   },
   "outputs": [],
   "source": []
  }
 ],
 "metadata": {
  "colab": {
   "authorship_tag": "ABX9TyPLORlQzKE1QgEjoZY1txFW",
   "provenance": [],
   "toc_visible": true
  },
  "kernelspec": {
   "display_name": "Python 3 (ipykernel)",
   "language": "python",
   "name": "python3"
  },
  "language_info": {
   "codemirror_mode": {
    "name": "ipython",
    "version": 3
   },
   "file_extension": ".py",
   "mimetype": "text/x-python",
   "name": "python",
   "nbconvert_exporter": "python",
   "pygments_lexer": "ipython3",
   "version": "3.8.10"
  }
 },
 "nbformat": 4,
 "nbformat_minor": 4
}
